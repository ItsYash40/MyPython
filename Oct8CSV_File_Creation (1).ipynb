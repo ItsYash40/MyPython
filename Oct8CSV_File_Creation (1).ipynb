{
 "cells": [
  {
   "cell_type": "code",
   "execution_count": 79,
   "id": "13b2ee2e",
   "metadata": {},
   "outputs": [],
   "source": [
    "import pandas as pd \n",
    "import numpy as np\n"
   ]
  },
  {
   "cell_type": "code",
   "execution_count": 80,
   "id": "1486d460",
   "metadata": {},
   "outputs": [
    {
     "name": "stdout",
     "output_type": "stream",
     "text": [
      "     Name  Age      City\n",
      "0    Yash   25  New York\n",
      "1     Sam   30    London\n",
      "2  Pankho   35       NaN\n",
      "\n",
      "DataFrame with missing values:\n",
      "     Name   Age      City\n",
      "0    Yash  25.0  New York\n",
      "1     Sam   NaN    London\n",
      "2  Pankho  35.0       NaN\n",
      "\n",
      "# Info about data\n",
      "<class 'pandas.core.frame.DataFrame'>\n",
      "RangeIndex: 3 entries, 0 to 2\n",
      "Data columns (total 3 columns):\n",
      " #   Column  Non-Null Count  Dtype  \n",
      "---  ------  --------------  -----  \n",
      " 0   Name    3 non-null      object \n",
      " 1   Age     2 non-null      float64\n",
      " 2   City    2 non-null      object \n",
      "dtypes: float64(1), object(2)\n",
      "memory usage: 200.0+ bytes\n",
      "None\n",
      "\n",
      "# Describe about data\n",
      "             Age\n",
      "count   2.000000\n",
      "mean   30.000000\n",
      "std     7.071068\n",
      "min    25.000000\n",
      "25%    27.500000\n",
      "50%    30.000000\n",
      "75%    32.500000\n",
      "max    35.000000\n",
      "\n",
      "# If any missing value in the data\n",
      "    Name    Age   City\n",
      "0  False  False  False\n",
      "1  False   True  False\n",
      "2  False  False   True\n",
      "\n",
      "# If any missing value in any column\n",
      "Name    False\n",
      "Age      True\n",
      "City     True\n",
      "dtype: bool\n",
      "\n",
      "#DataFrame with filled missing values:\n",
      "     Name   Age      City\n",
      "0    Yash  25.0  New York\n",
      "1     Sam  30.0    London\n",
      "2  Pankho  35.0       NaN\n",
      "\n",
      "#Copy of the filled DataFrame:\n",
      "     Name   Age      City\n",
      "0    Yash  25.0  New York\n",
      "1     Sam  30.0    London\n",
      "2  Pankho  35.0       NaN\n"
     ]
    }
   ],
   "source": [
    "import pandas as pd\n",
    "import numpy as np\n",
    "\n",
    "data = {'Name': ['Yash', 'Sam', 'Pankho'],\n",
    "        'Age': [25, 30, 35],\n",
    "        'City': ['New York', 'London', np.NaN]\n",
    "       }\n",
    "df = pd.DataFrame(data)\n",
    "\n",
    "print(df)\n",
    "\n",
    "# Introduce a missing value (NaN) for 'Age' in the second row\n",
    "df.loc[1, 'Age'] = np.nan\n",
    "print('\\nDataFrame with missing values:')\n",
    "print(df)\n",
    "\n",
    "#  More interesting info\n",
    "print('\\n# Info about data')\n",
    "print(df.info()) \n",
    "print('\\n# Describe about data')\n",
    "print(df.describe())\n",
    "print('\\n# If any missing value in the data')\n",
    "print(df.isnull())\n",
    "print('\\n# If any missing value in any column')\n",
    "print(df.isnull().any(axis=0))\n",
    "\n",
    "print('\\n#DataFrame with filled missing values:')\n",
    "df_filled = df.fillna({'Age': df['Age'].mean()})\n",
    "print(df_filled)\n",
    "\n",
    "print('\\n#Copy of the filled DataFrame:')\n",
    "df_copy1 = df_filled.copy()\n",
    "print(df_copy1)\n",
    "\n",
    "\n"
   ]
  },
  {
   "cell_type": "code",
   "execution_count": 81,
   "id": "a46336f7",
   "metadata": {},
   "outputs": [
    {
     "name": "stdout",
     "output_type": "stream",
     "text": [
      "25.0\n",
      "    Age\n",
      "1   NaN\n",
      "2  35.0\n",
      "nan\n",
      "Sam\n"
     ]
    }
   ],
   "source": [
    "# Accessing values of the column\n",
    "print(df.loc[0, 'Age'])       # Access value by label-based indexing (row label 0, column 'Age')\n",
    "print(df.iloc[1:3, 1:2])      # Access value by position-based indexing (row 0, column 1 which is 'Age')\n",
    "print(df.iat[1, 1])           # Access single scalar value (row 0, column 1) [Row Access]\n",
    "print(df.at[1,'Name'])"
   ]
  },
  {
   "cell_type": "code",
   "execution_count": 82,
   "id": "b0a9b09f",
   "metadata": {},
   "outputs": [
    {
     "name": "stdout",
     "output_type": "stream",
     "text": [
      "   Unnamed: 0    Name   Age      City\n",
      "0           0    Yash  25.0  New York\n",
      "1           1     Sam   NaN    London\n",
      "2           2  Pankho  35.0       NaN\n"
     ]
    }
   ],
   "source": [
    "#CSV File Creation\n",
    "\n",
    "#manually\n",
    "df.to_csv('Students_csv')  #File Save\n",
    "df_csv= pd.read_csv('Students_csv')  \n",
    "print(df_csv)"
   ]
  },
  {
   "cell_type": "code",
   "execution_count": 83,
   "id": "07d58fd3",
   "metadata": {},
   "outputs": [
    {
     "name": "stdout",
     "output_type": "stream",
     "text": [
      "     0    1    2    3            4\n",
      "0  5.1  3.5  1.4  0.2  Iris-setosa\n",
      "1  4.9  3.0  1.4  0.2  Iris-setosa\n",
      "2  4.7  3.2  1.3  0.2  Iris-setosa\n",
      "3  4.6  3.1  1.5  0.2  Iris-setosa\n",
      "4  5.0  3.6  1.4  0.2  Iris-setosa\n",
      "       0    1    2    3               4\n",
      "145  6.7  3.0  5.2  2.3  Iris-virginica\n",
      "146  6.3  2.5  5.0  1.9  Iris-virginica\n",
      "147  6.5  3.0  5.2  2.0  Iris-virginica\n",
      "148  6.2  3.4  5.4  2.3  Iris-virginica\n",
      "149  5.9  3.0  5.1  1.8  Iris-virginica\n"
     ]
    }
   ],
   "source": [
    "#BY URL\n",
    "url = 'http://archive.ics.uci.edu/ml/machine-learning-databases/iris/iris.data'\n",
    "iris = pd.read_csv(url, header=None)\n",
    "\n",
    "print(iris.head()) \n",
    "print(iris.tail())"
   ]
  },
  {
   "cell_type": "code",
   "execution_count": 84,
   "id": "51423da6",
   "metadata": {},
   "outputs": [
    {
     "name": "stdout",
     "output_type": "stream",
     "text": [
      "     Name  Age      City\n",
      "0    Yash   25  New York\n",
      "1     Sam   30    London\n",
      "2  Pankho   35       NaN\n"
     ]
    }
   ],
   "source": [
    "import pandas as pd\n",
    "import numpy as np\n",
    "\n",
    "data = {'Name': ['Yash', 'Sam', 'Pankho'],\n",
    "        'Age': [25, 30, 35],\n",
    "        'City': ['New York', 'London', np.NaN]\n",
    "       }\n",
    "df = pd.DataFrame(data)\n",
    "\n",
    "\n",
    "# Add the correct file extension '.xlsx'\n",
    "df.to_excel('Students.xlsx')\n",
    "df_excel = pd.read_excel('Students.xlsx', index_col=0)\n",
    "print(df_excel)\n"
   ]
  },
  {
   "cell_type": "code",
   "execution_count": 63,
   "id": "c6d0f93b",
   "metadata": {},
   "outputs": [
    {
     "name": "stdout",
     "output_type": "stream",
     "text": [
      "     sepal length (cm)  sepal width (cm)  petal length (cm)  petal width (cm)  \\\n",
      "0                  5.1               3.5                1.4               0.2   \n",
      "1                  4.9               3.0                1.4               0.2   \n",
      "2                  4.7               3.2                1.3               0.2   \n",
      "3                  4.6               3.1                1.5               0.2   \n",
      "4                  5.0               3.6                1.4               0.2   \n",
      "..                 ...               ...                ...               ...   \n",
      "145                6.7               3.0                5.2               2.3   \n",
      "146                6.3               2.5                5.0               1.9   \n",
      "147                6.5               3.0                5.2               2.0   \n",
      "148                6.2               3.4                5.4               2.3   \n",
      "149                5.9               3.0                5.1               1.8   \n",
      "\n",
      "     target  \n",
      "0         0  \n",
      "1         0  \n",
      "2         0  \n",
      "3         0  \n",
      "4         0  \n",
      "..      ...  \n",
      "145       2  \n",
      "146       2  \n",
      "147       2  \n",
      "148       2  \n",
      "149       2  \n",
      "\n",
      "[150 rows x 5 columns]\n"
     ]
    }
   ],
   "source": [
    "import pandas as pd\n",
    "from sklearn.datasets import load_iris\n",
    "\n",
    "# Create a DataFrame. Here, we'll use the Iris dataset.\n",
    "df = iris.frame\n",
    "\n",
    "# Save the DataFrame to an Excel file.\n",
    "df.to_excel('Iris.xlsx')\n",
    "\n",
    "df_excel = pd.read_excel('Iris.xlsx', index_col=0)\n",
    "\n",
    "print(df_excel)\n"
   ]
  },
  {
   "cell_type": "code",
   "execution_count": 85,
   "id": "228a0aaf",
   "metadata": {},
   "outputs": [
    {
     "name": "stdout",
     "output_type": "stream",
     "text": [
      "   total_bill   tip     sex smoker  day    time  size\n",
      "0       16.99  1.01  Female     No  Sun  Dinner     2\n",
      "1       10.34  1.66    Male     No  Sun  Dinner     3\n",
      "2       21.01  3.50    Male     No  Sun  Dinner     3\n",
      "3       23.68  3.31    Male     No  Sun  Dinner     2\n",
      "4       24.59  3.61  Female     No  Sun  Dinner     4\n"
     ]
    }
   ],
   "source": [
    "import pandas as pd\n",
    "import seaborn as sis\n",
    "tips=sis.load_dataset(\"tips\")\n",
    "print(tips.head())"
   ]
  },
  {
   "cell_type": "code",
   "execution_count": null,
   "id": "3734a4d9",
   "metadata": {},
   "outputs": [],
   "source": []
  },
  {
   "cell_type": "code",
   "execution_count": 86,
   "id": "1f9dc72c",
   "metadata": {},
   "outputs": [
    {
     "name": "stdout",
     "output_type": "stream",
     "text": [
      "     Name  Age      City\n",
      "0    Yash   25  New York\n",
      "1     Sam   30    London\n",
      "2  Pankho   35       NaN\n",
      "\n",
      "# Info about data\n",
      "<class 'pandas.core.frame.DataFrame'>\n",
      "RangeIndex: 3 entries, 0 to 2\n",
      "Data columns (total 3 columns):\n",
      " #   Column  Non-Null Count  Dtype \n",
      "---  ------  --------------  ----- \n",
      " 0   Name    3 non-null      object\n",
      " 1   Age     3 non-null      int64 \n",
      " 2   City    2 non-null      object\n",
      "dtypes: int64(1), object(2)\n",
      "memory usage: 200.0+ bytes\n",
      "None\n",
      "\n",
      "# Describe about data\n",
      "        Age\n",
      "count   3.0\n",
      "mean   30.0\n",
      "std     5.0\n",
      "min    25.0\n",
      "25%    27.5\n",
      "50%    30.0\n",
      "75%    32.5\n",
      "max    35.0\n",
      "\n",
      "# If any missing value in the data\n",
      "    Name    Age   City\n",
      "0  False  False  False\n",
      "1  False  False  False\n",
      "2  False  False   True\n",
      "\n",
      "# If any missing value in any column\n",
      "Name    False\n",
      "Age     False\n",
      "City     True\n",
      "dtype: bool\n",
      "\n",
      "# DataFrame with filled missing values:\n",
      "     Name  Age      City\n",
      "0    Yash   25  New York\n",
      "1     Sam   30    London\n",
      "2  Pankho   35       NaN\n",
      "\n",
      "# Copy of the filled DataFrame:\n",
      "     Name  Age      City\n",
      "0    Yash   25  New York\n",
      "1     Sam   30    London\n",
      "2  Pankho   35       NaN\n",
      "     Name      City\n",
      "0    Yash  New York\n",
      "1     Sam    London\n",
      "2  Pankho       NaN\n",
      "     Name      City\n",
      "0    Yash  New York\n",
      "1     Sam    London\n",
      "2  Pankho       NaN\n",
      "0    25\n",
      "1    30\n",
      "2    35\n",
      "Name: Age, dtype: int64\n"
     ]
    },
    {
     "data": {
      "image/png": "[encoded data removed]",
      "text/plain": [
       "<Figure size 600x400 with 1 Axes>"
      ]
     },
     "metadata": {},
     "output_type": "display_data"
    },
    {
     "data": {
      "image/png": "[encoded data removed]",
      "text/plain": [
       "<Figure size 800x500 with 1 Axes>"
      ]
     },
     "metadata": {},
     "output_type": "display_data"
    }
   ],
   "source": [
    "import pandas as pd\n",
    "import numpy as np\n",
    "import matplotlib.pyplot as plt\n",
    "import seaborn as sns  # fixed import alias\n",
    "\n",
    "data = {'Name': ['Yash', 'Sam', 'Pankho'],\n",
    "        'Age': [25, 30, 35],\n",
    "        'City': ['New York', 'London', np.NaN]\n",
    "       }\n",
    "df = pd.DataFrame(data)\n",
    "\n",
    "print(df)\n",
    "\n",
    "# More interesting info\n",
    "print('\\n# Info about data')\n",
    "print(df.info()) \n",
    "print('\\n# Describe about data')\n",
    "print(df.describe())\n",
    "print('\\n# If any missing value in the data')\n",
    "print(df.isnull())\n",
    "print('\\n# If any missing value in any column')\n",
    "print(df.isnull().any(axis=0))\n",
    "\n",
    "print('\\n# DataFrame with filled missing values:')\n",
    "df_filled = df.fillna({'Age': df['Age'].mean()})\n",
    "print(df_filled)\n",
    "\n",
    "print('\\n# Copy of the filled DataFrame:')\n",
    "df_copy1 = df_filled.copy()\n",
    "print(df_copy1)\n",
    "\n",
    "# Working with copies and dropping column\n",
    "df_copy2 = df_filled.drop('Age', axis=1)  # fixed syntax\n",
    "print(df_copy2)\n",
    "\n",
    "df_copy3 = df_filled.copy()  # fixed variable name\n",
    "Age_col = df_copy3.pop('Age')  # fixed variable name\n",
    "print(df_copy3)\n",
    "print(Age_col)\n",
    "\n",
    "# Plotting\n",
    "df_filled.plot(kind='box', figsize=(6,4), title='Boxplot')  # fixed figsize typo\n",
    "plt.show()\n",
    "\n",
    "# For the seaborn boxplot, let's load the 'tips' dataset from seaborn\n",
    "tips = sns.load_dataset('tips') \n",
    "\n",
    "plt.figure(figsize=(8,5))\n",
    "sns.boxplot(data=tips[['total_bill','tip','size']])\n",
    "plt.title('Boxplot of tips dataset')\n",
    "plt.show()\n"
   ]
  },
  {
   "cell_type": "code",
   "execution_count": null,
   "id": "f0898b40",
   "metadata": {},
   "outputs": [],
   "source": []
  }
 ],
 "metadata": {
  "kernelspec": {
   "display_name": "Python 3 (ipykernel)",
   "language": "python",
   "name": "python3"
  },
  "language_info": {
   "codemirror_mode": {
    "name": "ipython",
    "version": 3
   },
   "file_extension": ".py",
   "mimetype": "text/x-python",
   "name": "python",
   "nbconvert_exporter": "python",
   "pygments_lexer": "ipython3",
   "version": "3.9.17"
  }
 },
 "nbformat": 4,
 "nbformat_minor": 5
}

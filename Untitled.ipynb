{
 "cells": [
  {
   "cell_type": "code",
   "execution_count": 1,
   "id": "6e10b850-7469-4574-a3d6-703ae9a31b99",
   "metadata": {},
   "outputs": [],
   "source": [
    "################# ML LAB ASSIGNMENT 1 ################"
   ]
  },
  {
   "cell_type": "code",
   "execution_count": 6,
   "id": "8b9b59f8-1383-48f3-99d1-f4aa7876e786",
   "metadata": {},
   "outputs": [
    {
     "name": "stdout",
     "output_type": "stream",
     "text": [
      "Enter Marks: \n"
     ]
    },
    {
     "name": "stdin",
     "output_type": "stream",
     "text": [
      " 67\n"
     ]
    },
    {
     "name": "stdout",
     "output_type": "stream",
     "text": [
      "67\n",
      "C\n"
     ]
    }
   ],
   "source": [
    "#1. \n",
    "print(\"Enter Marks: \")\n",
    "marks = int( input())\n",
    "print(marks)\n",
    "\n",
    "if(marks<=100):\n",
    "    if(marks>=90):\n",
    "        print('A')\n",
    "    elif(marks>=75 and marks<=89):\n",
    "        print('B')\n",
    "    elif(marks>=50 and marks<=74):\n",
    "        print('C')\n",
    "    elif(marks<=50):\n",
    "        print('Einstin')\n",
    "        \n",
    "else:\n",
    "    print('Thaks')\n",
    "        \n",
    "        \n",
    "    "
   ]
  },
  {
   "cell_type": "code",
   "execution_count": null,
   "id": "07f31b99-db10-4055-a09a-012411fed4aa",
   "metadata": {},
   "outputs": [],
   "source": []
  }
 ],
 "metadata": {
  "kernelspec": {
   "display_name": "Python 3 (ipykernel)",
   "language": "python",
   "name": "python3"
  },
  "language_info": {
   "codemirror_mode": {
    "name": "ipython",
    "version": 3
   },
   "file_extension": ".py",
   "mimetype": "text/x-python",
   "name": "python",
   "nbconvert_exporter": "python",
   "pygments_lexer": "ipython3",
   "version": "3.9.17"
  }
 },
 "nbformat": 4,
 "nbformat_minor": 5
}

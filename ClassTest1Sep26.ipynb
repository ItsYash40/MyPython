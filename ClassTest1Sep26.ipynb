{
 "cells": [
  {
   "cell_type": "code",
   "execution_count": 16,
   "id": "53c4eeac",
   "metadata": {},
   "outputs": [
    {
     "name": "stdout",
     "output_type": "stream",
     "text": [
      "factotial is :  6\n",
      "1\n",
      "1\n",
      "2\n",
      "3\n",
      "5\n",
      "8\n",
      "13\n",
      "21\n",
      "34\n",
      "\n"
     ]
    }
   ],
   "source": [
    "#Q1\n",
    "import numpy as np\n",
    "\n",
    "\n",
    "def fact(num):\n",
    "    if(num==0 or num==1):\n",
    "        return 1\n",
    "    return num*fact(num-1)\n",
    "print('factotial is : ', fact(3))\n",
    "\n",
    "\n",
    "def fib(n):\n",
    "    if n==1 or n==2:\n",
    "        return 1\n",
    "    return fib(n-1)+fib(n-2)\n",
    "for i in range(1,10):\n",
    "    print(fib(i))\n",
    "    \n",
    "    \n",
    "#Star\n",
    "num=10\n",
    "l=1\n",
    "while(num<=l):\n",
    "    print('*')\n",
    "print()\n",
    "\n",
    "\n"
   ]
  },
  {
   "cell_type": "code",
   "execution_count": 11,
   "id": "b40c351e",
   "metadata": {},
   "outputs": [
    {
     "name": "stdout",
     "output_type": "stream",
     "text": [
      "a1 [[[1 2]\n",
      "  [3 4]]\n",
      "\n",
      " [[1 2]\n",
      "  [3 4]]]\n",
      "a2  [[[ 2  3  4]\n",
      "  [ 5  6  7]\n",
      "  [ 8  9 10]]\n",
      "\n",
      " [[11 12 13]\n",
      "  [14 15 16]\n",
      "  [17 18 19]]]\n",
      "a3  [[[ 1.          2.28571429]\n",
      "  [ 3.57142857  4.85714286]]\n",
      "\n",
      " [[ 6.14285714  7.42857143]\n",
      "  [ 8.71428571 10.        ]]]\n",
      "a4  [[[0. 0. 0.]\n",
      "  [0. 0. 0.]\n",
      "  [0. 0. 0.]]\n",
      "\n",
      " [[0. 0. 0.]\n",
      "  [0. 0. 0.]\n",
      "  [0. 0. 0.]]\n",
      "\n",
      " [[0. 0. 0.]\n",
      "  [0. 0. 0.]\n",
      "  [0. 0. 0.]]]\n",
      "a5  [[[0.87060443 0.11368173]\n",
      "  [0.65117268 0.15543529]]\n",
      "\n",
      " [[0.83970013 0.92216495]\n",
      "  [0.31427114 0.99711968]]]\n"
     ]
    }
   ],
   "source": [
    "#Q2\n",
    "#Create 3D array in 10 ways:\n",
    "\n",
    "import numpy as np\n",
    "\n",
    "#1\n",
    "a1=np.array([[[1,2],[3,4]],[[1,2],[3,4]]])\n",
    "print('a1', a1)\n",
    "\n",
    "#2\n",
    "a2=np.arange(2,20).reshape(2,3,3)\n",
    "print('a2 ',a2)\n",
    "\n",
    "#3\n",
    "a3= np.linspace(1,10,8).reshape(2,2,2)\n",
    "print('a3 ',a3)\n",
    "\n",
    "#4\n",
    "a4=np.zeros((3,3,3))\n",
    "print('a4 ',a4)\n",
    "\n",
    "#5\n",
    "a5=np.random.rand(2,2,2)\n",
    "print('a5 ',a5)\n",
    "\n",
    "#6\n"
   ]
  },
  {
   "cell_type": "code",
   "execution_count": null,
   "id": "702300fa",
   "metadata": {},
   "outputs": [],
   "source": [
    "#Q3 Why numpy 2D and 3D arra is considered as object type for series creation ????????????\n",
    "\n",
    "#Ans- Beause Set is not in unordered tye Data Structure, and it does not have any indentation, \n",
    "#... Series indices store objects, not their individual scalar components\n",
    "# ... So, it's not possible to cnvert into the list as for the Pandas Library"
   ]
  },
  {
   "cell_type": "code",
   "execution_count": 12,
   "id": "93fee4c5",
   "metadata": {},
   "outputs": [
    {
     "name": "stdout",
     "output_type": "stream",
     "text": [
      "0     1\n",
      "1    20\n",
      "2     3\n",
      "3     6\n",
      "dtype: int64\n",
      "w    1\n",
      "x    4\n",
      "y    6\n",
      "z    3\n",
      "dtype: int64\n"
     ]
    }
   ],
   "source": [
    "#Q4\n",
    "import numpy as np\n",
    "import pandas as pd\n",
    "\n",
    "tup = (1, 20, 3, 6)\n",
    "dist = {'w': 1, 'x': 4, 'y': 6, 'z': 3}\n",
    "s2 = pd.Series(tup)\n",
    "print(s2)\n",
    "s3 = pd.Series(dist)\n",
    "print(s3)"
   ]
  },
  {
   "cell_type": "code",
   "execution_count": 6,
   "id": "b32c2c1d",
   "metadata": {},
   "outputs": [
    {
     "name": "stdout",
     "output_type": "stream",
     "text": [
      "Enter elements 3 6 8\n",
      "The  array is: [3 6 8]\n"
     ]
    }
   ],
   "source": [
    "#Q5\n",
    "import numpy as np\n",
    "\n",
    "# u = input(\"Enter elements \")\n",
    "# el = u.split()\n",
    "# array = np.array(el, dtype=int)\n",
    "\n",
    "# print(\"The  array is:\",array)\n",
    "\n"
   ]
  },
  {
   "cell_type": "code",
   "execution_count": null,
   "id": "ce79168e",
   "metadata": {},
   "outputs": [],
   "source": []
  },
  {
   "cell_type": "code",
   "execution_count": null,
   "id": "c363dba8",
   "metadata": {},
   "outputs": [],
   "source": []
  }
 ],
 "metadata": {
  "kernelspec": {
   "display_name": "Python 3 (ipykernel)",
   "language": "python",
   "name": "python3"
  },
  "language_info": {
   "codemirror_mode": {
    "name": "ipython",
    "version": 3
   },
   "file_extension": ".py",
   "mimetype": "text/x-python",
   "name": "python",
   "nbconvert_exporter": "python",
   "pygments_lexer": "ipython3",
   "version": "3.9.17"
  }
 },
 "nbformat": 4,
 "nbformat_minor": 5
}

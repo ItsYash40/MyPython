{
 "cells": [
  {
   "cell_type": "code",
   "execution_count": null,
   "id": "7ccd7c48-20ca-4d1b-a265-79d1504fc35c",
   "metadata": {},
   "outputs": [],
   "source": [
    "x=10.5\n",
    "y= 3.2\n",
    "print(round(x/3 , 3))"
   ]
  },
  {
   "cell_type": "code",
   "execution_count": null,
   "id": "e3faf5f3-b511-49a4-b8cb-df2c60820fa6",
   "metadata": {},
   "outputs": [],
   "source": [
    "list=[1,2,3]\n",
    "list.append(5)\n",
    "list.insert(3,4)\n",
    "print(list)"
   ]
  },
  {
   "cell_type": "code",
   "execution_count": null,
   "id": "892d89a3-2f24-407f-8e2e-c98563e92593",
   "metadata": {},
   "outputs": [],
   "source": [
    "list=[1,2,3]\n",
    "list.append(5)\n",
    "list.remove(3)\n",
    "print(list)"
   ]
  },
  {
   "cell_type": "code",
   "execution_count": null,
   "id": "0a2738b3-a54a-48ba-855c-3237ed685f34",
   "metadata": {},
   "outputs": [],
   "source": [
    "#Sub/Super -- Set"
   ]
  },
  {
   "cell_type": "code",
   "execution_count": null,
   "id": "6dc86d3a-674e-4af9-bd10-634c7fd013b1",
   "metadata": {},
   "outputs": [],
   "source": [
    ".0"
   ]
  },
  {
   "cell_type": "code",
   "execution_count": null,
   "id": "43b7f2dd-4bc6-466c-82fd-3c6a760e95d4",
   "metadata": {},
   "outputs": [],
   "source": [
    "1"
   ]
  },
  {
   "cell_type": "code",
   "execution_count": null,
   "id": "47e8c945-facf-473b-b756-46b9d27a3b97",
   "metadata": {},
   "outputs": [],
   "source": [
    "m=6 \n",
    "n=3\n",
    "print(\"m&n= \", bin(m&n))\n",
    "print(\"m|n= \", bin(m|n))\n",
    "print(\"m^n= \", bin(m^n))\n",
    "print(\"m Left shift= \", bin(m<<1))\n",
    "print(\"m Right shift= \", bin(m>>2))"
   ]
  },
  {
   "cell_type": "code",
   "execution_count": null,
   "id": "21707fe8-e4e4-4aab-862a-f5380c5dff47",
   "metadata": {},
   "outputs": [],
   "source": [
    "dic_1 = {\"x\": 100, \"y\": 200}\n",
    "items_list = list(dic_1.items())\n",
    "print(items_list)\n",
    "\n"
   ]
  },
  {
   "cell_type": "code",
   "execution_count": null,
   "id": "9147fb99-5f48-454d-ba22-6383856fafd0",
   "metadata": {},
   "outputs": [],
   "source": [
    "dic_1 = {\"x\": 100, \"y\": 200}\n",
    "items_list = list(dic_1.items())\n",
    "print(items_list)"
   ]
  },
  {
   "cell_type": "code",
   "execution_count": 1,
   "id": "ba95d191-357e-4523-a4a6-2fa2a08827ed",
   "metadata": {},
   "outputs": [
    {
     "name": "stdout",
     "output_type": "stream",
     "text": [
      "1\n",
      "2\n",
      "3\n",
      "5\n",
      "8\n",
      "13\n",
      "21\n",
      "34\n",
      "55\n",
      "89\n",
      "144\n",
      "233\n"
     ]
    }
   ],
   "source": [
    "n=12\n",
    "x=0\n",
    "y=1\n",
    "for i in range(n):\n",
    "    s=x+y\n",
    "    print(s)\n",
    "    x=y\n",
    "    y=s\n",
    "    "
   ]
  },
  {
   "cell_type": "code",
   "execution_count": 2,
   "id": "f1d43cfe-6f4d-4a98-a94c-45e5e145abb3",
   "metadata": {},
   "outputs": [
    {
     "name": "stdout",
     "output_type": "stream",
     "text": [
      "120\n"
     ]
    }
   ],
   "source": [
    "def fact(n):\n",
    "    if n == 0 or n == 1:\n",
    "        return 1\n",
    "    return n * fact(n - 1)\n",
    "\n",
    "print(fact(5))\n"
   ]
  },
  {
   "cell_type": "code",
   "execution_count": 4,
   "id": "8238e2b0-12f3-4ab0-b5a0-bf040e4472c0",
   "metadata": {},
   "outputs": [
    {
     "name": "stdout",
     "output_type": "stream",
     "text": [
      "1\n",
      "1\n",
      "2\n",
      "3\n",
      "5\n",
      "8\n",
      "13\n",
      "21\n",
      "34\n"
     ]
    }
   ],
   "source": [
    "def fib(n):\n",
    "    if n==1 or n==2:\n",
    "        return 1\n",
    "    return fib(n-1)+fib(n-2)\n",
    "for i in range (1,10):\n",
    "    print(fib(i))\n"
   ]
  },
  {
   "cell_type": "code",
   "execution_count": null,
   "id": "2294406f-1994-4007-a702-882f1747eece",
   "metadata": {},
   "outputs": [],
   "source": []
  },
  {
   "cell_type": "code",
   "execution_count": null,
   "id": "30143d58-60c0-4497-80d1-7c4f7890faab",
   "metadata": {},
   "outputs": [],
   "source": []
  },
  {
   "cell_type": "code",
   "execution_count": null,
   "id": "e576502f-2487-4b45-87af-fcad353b86cd",
   "metadata": {},
   "outputs": [],
   "source": []
  },
  {
   "cell_type": "code",
   "execution_count": null,
   "id": "0c2e692c-3e9a-4718-a446-ec3e0a22da5a",
   "metadata": {},
   "outputs": [],
   "source": []
  }
 ],
 "metadata": {
  "kernelspec": {
   "display_name": "Python 3 (ipykernel)",
   "language": "python",
   "name": "python3"
  },
  "language_info": {
   "codemirror_mode": {
    "name": "ipython",
    "version": 3
   },
   "file_extension": ".py",
   "mimetype": "text/x-python",
   "name": "python",
   "nbconvert_exporter": "python",
   "pygments_lexer": "ipython3",
   "version": "3.9.17"
  }
 },
 "nbformat": 4,
 "nbformat_minor": 5
}

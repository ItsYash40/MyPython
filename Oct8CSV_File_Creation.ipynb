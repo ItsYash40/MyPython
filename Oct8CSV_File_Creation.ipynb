{
 "cells": [
  {
   "cell_type": "code",
   "execution_count": 10,
   "id": "0a691fec",
   "metadata": {},
   "outputs": [],
   "source": [
    "import pandas as pd \n",
    "import numpy as np\n"
   ]
  },
  {
   "cell_type": "code",
   "execution_count": 38,
   "id": "1f62afb0",
   "metadata": {},
   "outputs": [
    {
     "name": "stdout",
     "output_type": "stream",
     "text": [
      "     Name  Age      City\n",
      "0    Yash   25  New York\n",
      "1     Sam   30    London\n",
      "2  Pankho   35       NaN\n",
      "     Name   Age      City\n",
      "0    Yash  25.0  New York\n",
      "1     Sam   NaN    London\n",
      "2  Pankho  35.0       NaN\n"
     ]
    }
   ],
   "source": [
    "import pandas as pd\n",
    "import numpy as np\n",
    "\n",
    "data = {'Name': ['Yash', 'Sam', 'Pankho'],\n",
    "        'Age': [25, 30, 35],\n",
    "        'City': ['New York', 'London', np.NaN]\n",
    "       }\n",
    "df = pd.DataFrame(data)\n",
    "\n",
    "print(df)\n",
    "\n",
    "# Missing Value (NaN)\n",
    "df.loc[1, 'Age'] = np.nan \n",
    "print(df)\n",
    "\n",
    "  \n",
    "\n",
    "\n",
    "\n",
    "\n"
   ]
  },
  {
   "cell_type": "code",
   "execution_count": 37,
   "id": "4c6cf34f",
   "metadata": {},
   "outputs": [
    {
     "name": "stdout",
     "output_type": "stream",
     "text": [
      "25.0\n",
      "    Age\n",
      "1   NaN\n",
      "2  35.0\n",
      "nan\n",
      "Sam\n"
     ]
    }
   ],
   "source": [
    "# Accessing values of the column\n",
    "print(df.loc[0, 'Age'])       # Access value by label-based indexing (row label 0, column 'Age')\n",
    "print(df.iloc[1:3, 1:2])      # Access value by position-based indexing (row 0, column 1 which is 'Age')\n",
    "print(df.iat[1, 1])           # Access single scalar value (row 0, column 1) [Row Access]\n",
    "print(df.at[1,'Name'])"
   ]
  },
  {
   "cell_type": "code",
   "execution_count": 40,
   "id": "97c6f638",
   "metadata": {},
   "outputs": [
    {
     "name": "stdout",
     "output_type": "stream",
     "text": [
      "   Unnamed: 0    Name   Age      City\n",
      "0           0    Yash  25.0  New York\n",
      "1           1     Sam   NaN    London\n",
      "2           2  Pankho  35.0       NaN\n"
     ]
    }
   ],
   "source": [
    "#CSV File Creation\n",
    "\n",
    "#manually\n",
    "df.to_csv('Students_csv')  #File Save\n",
    "df_csv= pd.read_csv('Students_csv')  \n",
    "print(df_csv)"
   ]
  },
  {
   "cell_type": "code",
   "execution_count": 44,
   "id": "b35d1c7f",
   "metadata": {},
   "outputs": [
    {
     "name": "stdout",
     "output_type": "stream",
     "text": [
      "     0    1    2    3            4\n",
      "0  5.1  3.5  1.4  0.2  Iris-setosa\n",
      "1  4.9  3.0  1.4  0.2  Iris-setosa\n",
      "2  4.7  3.2  1.3  0.2  Iris-setosa\n",
      "3  4.6  3.1  1.5  0.2  Iris-setosa\n",
      "4  5.0  3.6  1.4  0.2  Iris-setosa\n",
      "       0    1    2    3               4\n",
      "145  6.7  3.0  5.2  2.3  Iris-virginica\n",
      "146  6.3  2.5  5.0  1.9  Iris-virginica\n",
      "147  6.5  3.0  5.2  2.0  Iris-virginica\n",
      "148  6.2  3.4  5.4  2.3  Iris-virginica\n",
      "149  5.9  3.0  5.1  1.8  Iris-virginica\n"
     ]
    }
   ],
   "source": [
    "#BY URL\n",
    "url = 'http://archive.ics.uci.edu/ml/machine-learning-databases/iris/iris.data'\n",
    "iris = pd.read_csv(url, header=None)\n",
    "\n",
    "print(iris.head()) \n",
    "print(iris.tail())"
   ]
  },
  {
   "cell_type": "code",
   "execution_count": 49,
   "id": "6226f546",
   "metadata": {},
   "outputs": [
    {
     "name": "stdout",
     "output_type": "stream",
     "text": [
      "     Name  Age      City\n",
      "0    Yash   25  New York\n",
      "1     Sam   30    London\n",
      "2  Pankho   35       NaN\n"
     ]
    }
   ],
   "source": [
    "import pandas as pd\n",
    "import numpy as np\n",
    "\n",
    "data = {'Name': ['Yash', 'Sam', 'Pankho'],\n",
    "        'Age': [25, 30, 35],\n",
    "        'City': ['New York', 'London', np.NaN]\n",
    "       }\n",
    "df = pd.DataFrame(data)\n",
    "\n",
    "\n",
    "# Add the correct file extension '.xlsx'\n",
    "df.to_excel('Students.xlsx')\n",
    "df_excel = pd.read_excel('Students.xlsx', index_col=0)\n",
    "print(df_excel)\n"
   ]
  },
  {
   "cell_type": "code",
   "execution_count": 63,
   "id": "85c80add",
   "metadata": {},
   "outputs": [
    {
     "name": "stdout",
     "output_type": "stream",
     "text": [
      "     sepal length (cm)  sepal width (cm)  petal length (cm)  petal width (cm)  \\\n",
      "0                  5.1               3.5                1.4               0.2   \n",
      "1                  4.9               3.0                1.4               0.2   \n",
      "2                  4.7               3.2                1.3               0.2   \n",
      "3                  4.6               3.1                1.5               0.2   \n",
      "4                  5.0               3.6                1.4               0.2   \n",
      "..                 ...               ...                ...               ...   \n",
      "145                6.7               3.0                5.2               2.3   \n",
      "146                6.3               2.5                5.0               1.9   \n",
      "147                6.5               3.0                5.2               2.0   \n",
      "148                6.2               3.4                5.4               2.3   \n",
      "149                5.9               3.0                5.1               1.8   \n",
      "\n",
      "     target  \n",
      "0         0  \n",
      "1         0  \n",
      "2         0  \n",
      "3         0  \n",
      "4         0  \n",
      "..      ...  \n",
      "145       2  \n",
      "146       2  \n",
      "147       2  \n",
      "148       2  \n",
      "149       2  \n",
      "\n",
      "[150 rows x 5 columns]\n"
     ]
    }
   ],
   "source": [
    "import pandas as pd\n",
    "from sklearn.datasets import load_iris\n",
    "\n",
    "# Create a DataFrame. Here, we'll use the Iris dataset.\n",
    "df = iris.frame\n",
    "\n",
    "# Save the DataFrame to an Excel file.\n",
    "df.to_excel('Iris.xlsx')\n",
    "\n",
    "df_excel = pd.read_excel('Iris.xlsx', index_col=0)\n",
    "\n",
    "print(df_excel)\n"
   ]
  },
  {
   "cell_type": "code",
   "execution_count": 59,
   "id": "18c4788b",
   "metadata": {},
   "outputs": [
    {
     "name": "stdout",
     "output_type": "stream",
     "text": [
      "   total_bill   tip     sex smoker  day    time  size\n",
      "0       16.99  1.01  Female     No  Sun  Dinner     2\n",
      "1       10.34  1.66    Male     No  Sun  Dinner     3\n",
      "2       21.01  3.50    Male     No  Sun  Dinner     3\n",
      "3       23.68  3.31    Male     No  Sun  Dinner     2\n",
      "4       24.59  3.61  Female     No  Sun  Dinner     4\n"
     ]
    }
   ],
   "source": [
    "import pandas as pd\n",
    "import seaborn as sis\n",
    "tips=sis.load_dataset(\"tips\")\n",
    "print(tips.head())"
   ]
  },
  {
   "cell_type": "code",
   "execution_count": null,
   "id": "d4f24658",
   "metadata": {},
   "outputs": [],
   "source": []
  }
 ],
 "metadata": {
  "kernelspec": {
   "display_name": "Python 3 (ipykernel)",
   "language": "python",
   "name": "python3"
  },
  "language_info": {
   "codemirror_mode": {
    "name": "ipython",
    "version": 3
   },
   "file_extension": ".py",
   "mimetype": "text/x-python",
   "name": "python",
   "nbconvert_exporter": "python",
   "pygments_lexer": "ipython3",
   "version": "3.9.17"
  }
 },
 "nbformat": 4,
 "nbformat_minor": 5
}

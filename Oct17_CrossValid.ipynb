{
 "cells": [
  {
   "cell_type": "code",
   "execution_count": 8,
   "id": "b0c30fe3",
   "metadata": {},
   "outputs": [
    {
     "name": "stdout",
     "output_type": "stream",
     "text": [
      "Data shape: (106, 10)\n",
      "X shape: (106, 9)\n",
      "              I0     PA500       HFS           DA           Area        A/DA  \\\n",
      "44    172.515797  0.127235  0.038397    37.543673     192.218148    5.119855   \n",
      "47    370.395725  0.104720  0.000000   115.923253    1308.120430   11.284366   \n",
      "64    391.000000  0.058119  0.011170    35.780061     265.149790    7.410546   \n",
      "67    145.000000  0.117635  0.110305    21.218942      82.455562    3.885941   \n",
      "67    145.000000  0.117635  0.110305    21.218942      82.455562    3.885941   \n",
      "103  1600.000000  0.071908 -0.066323   436.943603   12655.342130   28.963331   \n",
      "9     423.000000  0.219562  0.261799   172.371241    6108.106297   35.435762   \n",
      "83   1535.850740  0.088488  0.004189   637.349674   10814.050170   16.967217   \n",
      "21    211.000000  0.053931  0.094248    30.753443     151.984578    4.942034   \n",
      "36    178.000000  0.170868  0.212930    41.542167     489.440520   11.781776   \n",
      "87   1666.148786  0.012392  0.058451    72.931050    1402.231665   19.226813   \n",
      "70   1724.089894  0.052709 -0.020944   404.126208    3053.966890    7.556963   \n",
      "88   1700.000000  0.043982  0.105127   120.653010   12331.103090  102.203029   \n",
      "88   1700.000000  0.043982  0.105127   120.653010   12331.103090  102.203029   \n",
      "12    438.780157  0.212407  0.060737   120.901596    4879.495576   40.359232   \n",
      "58    250.000000  0.087092  0.092852    29.637510     180.761244    6.099070   \n",
      "65    502.000000  0.065275  0.027925    53.239433     834.272730   15.670203   \n",
      "102  2600.000000  0.200538  0.208043  1063.441427  174480.476200  164.071543   \n",
      "39    250.000000  0.047124  0.013963    70.907040     224.145787    3.161122   \n",
      "87   1666.148786  0.012392  0.058451    72.931050    1402.231665   19.226813   \n",
      "46    196.364864  0.182911  0.142419    54.583080     843.262528   15.449156   \n",
      "88   1700.000000  0.043982  0.105127   120.653010   12331.103090  102.203029   \n",
      "81   1270.666717  0.078889  0.065624   555.352318    3612.968333    6.505723   \n",
      "37    195.000000  0.139103  0.205251    37.462196     328.384052    8.765745   \n",
      "25    243.293976  0.039968  0.067021    68.544778     383.928453    5.601134   \n",
      "\n",
      "         Max IP          DR            P  \n",
      "44    19.322081   32.189821   174.933770  \n",
      "47    31.367031  112.715102   365.977651  \n",
      "64    22.131472   28.114244   400.994818  \n",
      "67    20.303082    6.166715   162.510927  \n",
      "67    20.303082    6.166715   162.510927  \n",
      "103  103.732704  432.129749  1475.371534  \n",
      "9     79.056351  153.172903   558.274515  \n",
      "83    96.610397  632.165115  1197.762150  \n",
      "21    14.268374   27.243124   217.130704  \n",
      "36    35.747795   21.162393   215.905934  \n",
      "87    51.854767   58.595763  1746.577504  \n",
      "70    71.427589  399.194244  1489.386712  \n",
      "88   120.297318   -9.257696  2212.178196  \n",
      "88   120.297318   -9.257696  2212.178196  \n",
      "12    80.791779   89.943786   525.420149  \n",
      "58    26.142097   13.963263   280.122906  \n",
      "65    33.331142   41.514722   544.039415  \n",
      "102  418.687286  977.552367  2664.583623  \n",
      "39     9.102176   70.320400   232.277629  \n",
      "87    51.854767   58.595763  1746.577504  \n",
      "46    34.149414   42.580865   239.944073  \n",
      "88   120.297318   -9.257696  2212.178196  \n",
      "81    68.781670  551.076473   895.187441  \n",
      "37    35.023827   13.294650   232.587628  \n",
      "25     9.991348   67.816656   263.640761  \n"
     ]
    }
   ],
   "source": [
    "from sklearn.utils import resample\n",
    "import pandas as pd\n",
    "import numpy as np\n",
    "\n",
    "data = pd.read_csv('btissue(1).csv')\n",
    "print(\"Data shape:\", data.shape)\n",
    "\n",
    "X = data.iloc[:, 0:9]\n",
    "print(\"X shape:\", X.shape)\n",
    "\n",
    "# Resample with replacement (default)\n",
    "X1 = resample(X, n_samples=200, random_state=0, replace=True)\n",
    "print(X1.head(25))\n"
   ]
  },
  {
   "cell_type": "code",
   "execution_count": 11,
   "id": "6555d0f9",
   "metadata": {},
   "outputs": [
    {
     "name": "stdout",
     "output_type": "stream",
     "text": [
      "             I0     PA500       HFS          DA          Area        A/DA  \\\n",
      "73   649.369397  0.107512  0.018850  207.111691   3344.432678   16.147967   \n",
      "15   390.000000  0.358316  0.203854  245.686103  10055.836870   40.929612   \n",
      "77   691.972031  0.026005  0.086568  190.676692    304.270718    1.595742   \n",
      "36   178.000000  0.170868  0.212930   41.542167    489.440520   11.781776   \n",
      "88  1700.000000  0.043982  0.105127  120.653010  12331.103090  102.203029   \n",
      "\n",
      "        Max IP          DR            P  \n",
      "73   50.547470  200.848714   623.908814  \n",
      "15   70.324783  236.490170   477.548360  \n",
      "77   23.975718  189.163331   594.315626  \n",
      "36   35.747795   21.162393   215.905934  \n",
      "88  120.297318   -9.257696  2212.178196  \n"
     ]
    }
   ],
   "source": [
    "from sklearn.tree import DecisionTreeClassifier\n",
    "from sklearn.model_selection import train_test_split\n",
    "\n",
    "predictors = data.iloc[:, 0:9]\n",
    "target = data.iloc[:, 9]\n",
    "\n",
    "predictors_train, predictors_test, target_train, target_test = train_test_split(\n",
    "    predictors, target, test_size=0.25, random_state=42\n",
    ")\n",
    "\n",
    "print(predictors_train.head())\n"
   ]
  },
  {
   "cell_type": "code",
   "execution_count": 17,
   "id": "d09fb677",
   "metadata": {},
   "outputs": [
    {
     "name": "stdout",
     "output_type": "stream",
     "text": [
      "Accuracy: 0.7037037037037037\n",
      "Confusion Matrix:\n",
      " [[3 0 0 0 0 0]\n",
      " [0 6 0 0 0 0]\n",
      " [0 0 4 0 0 0]\n",
      " [0 0 0 2 0 3]\n",
      " [0 0 0 1 2 2]\n",
      " [0 0 0 0 2 2]]\n"
     ]
    }
   ],
   "source": [
    "from sklearn.tree import DecisionTreeClassifier\n",
    "from sklearn.metrics import accuracy_score, confusion_matrix\n",
    "from sklearn.model_selection import train_test_split\n",
    "\n",
    "# Prepare data\n",
    "predictors = data.iloc[:, 0:9]\n",
    "target = data.iloc[:, 9]\n",
    "\n",
    "# Split data\n",
    "predictors_train, predictors_test, target_train, target_test = train_test_split(\n",
    "    predictors, target, test_size=0.25, random_state=42\n",
    ")\n",
    "\n",
    "# Train model\n",
    "model = DecisionTreeClassifier(random_state=42)\n",
    "model.fit(predictors_train, target_train)\n",
    "\n",
    "# Predict on test set\n",
    "prediction = model.predict(predictors_test)\n",
    "\n",
    "# Calculate accuracy\n",
    "acc = accuracy_score(target_test, prediction)\n",
    "print(\"Accuracy:\", acc)\n",
    "\n",
    "# Confusion matrix\n",
    "cm = confusion_matrix(target_test, prediction)\n",
    "print(\"Confusion Matrix:\\n\", cm)\n"
   ]
  },
  {
   "cell_type": "code",
   "execution_count": null,
   "id": "5fe474b4",
   "metadata": {},
   "outputs": [],
   "source": [
    "# Fix: target should be last column, not all except last"
   ]
  }
 ],
 "metadata": {
  "kernelspec": {
   "display_name": "Python 3 (ipykernel)",
   "language": "python",
   "name": "python3"
  },
  "language_info": {
   "codemirror_mode": {
    "name": "ipython",
    "version": 3
   },
   "file_extension": ".py",
   "mimetype": "text/x-python",
   "name": "python",
   "nbconvert_exporter": "python",
   "pygments_lexer": "ipython3",
   "version": "3.9.17"
  }
 },
 "nbformat": 4,
 "nbformat_minor": 5
}

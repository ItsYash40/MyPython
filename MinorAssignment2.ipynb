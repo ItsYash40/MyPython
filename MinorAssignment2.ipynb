{
 "cells": [
  {
   "cell_type": "code",
   "execution_count": 2,
   "id": "6e5fb28f",
   "metadata": {},
   "outputs": [
    {
     "name": "stdout",
     "output_type": "stream",
     "text": [
      "Is it raining? (yes/no): yes\n",
      "Carry an Umbrella\n"
     ]
    }
   ],
   "source": [
    "#Q1\n",
    "answer = input(\"Is it raining? (yes/no): \")\n",
    "\n",
    "if answer == \"yes\":\n",
    "    print(\"Carry an Umbrella\")\n",
    "else:\n",
    "    print(\"Bye\")"
   ]
  },
  {
   "cell_type": "code",
   "execution_count": 1,
   "id": "d283edd4",
   "metadata": {},
   "outputs": [
    {
     "name": "stdout",
     "output_type": "stream",
     "text": [
      "Is it raining? (yes/no): no\n",
      "No need to caary an Umbrlla\n"
     ]
    }
   ],
   "source": [
    "#Q2\n",
    "answer = input(\"Is it raining? (yes/no): \")\n",
    "\n",
    "if answer == \"yes\":\n",
    "    print(\"Carry an Umbrella\")\n",
    "elif answer ==\"no\":\n",
    "    print(\"No need to caary an Umbrlla\")\n",
    "else:\n",
    "    print(\"Bye\")"
   ]
  },
  {
   "cell_type": "code",
   "execution_count": 3,
   "id": "2dc0d633",
   "metadata": {},
   "outputs": [
    {
     "name": "stdout",
     "output_type": "stream",
     "text": [
      "Enter the student's numeric score (0-100): 93\n",
      "\n",
      "--- Grade Report ---\n",
      "Numeric Score: 93.0\n",
      "Letter Grade: A\n",
      "Comment: Excellent\n"
     ]
    }
   ],
   "source": [
    "#Q3 A\n",
    "def calculate_grade():\n",
    "   \n",
    "    while True:\n",
    "        try:\n",
    "            score = float(input(\"Enter the student's numeric score (0-100): \"))\n",
    "            if 0 <= score <= 100:\n",
    "                break\n",
    "            else:\n",
    "                print(\"Score must be between 0 and 100. Please try again.\")\n",
    "        except ValueError:\n",
    "            print(\"Invalid input. Please enter a number.\")\n",
    "            \n",
    "    \n",
    "    if score >= 90:\n",
    "        letter_grade = \"A\"\n",
    "        comment = \"Excellent\"\n",
    "    elif score >= 80:\n",
    "        letter_grade = \"B\"\n",
    "        comment = \"Good\"\n",
    "    elif score >= 70:\n",
    "        letter_grade = \"C\"\n",
    "        comment = \"Average\"\n",
    "    elif score >= 60:\n",
    "        letter_grade = \"D\"\n",
    "        comment = \"Needs Improvement\"\n",
    "    else: \n",
    "        letter_grade = \"F\"\n",
    "        comment = \"Fail\"\n",
    "        \n",
    "    print(\"\\n--- Grade Report ---\")\n",
    "    print(f\"Numeric Score: {score}\")\n",
    "    print(f\"Letter Grade: {letter_grade}\")\n",
    "    print(f\"Comment: {comment}\")\n",
    "\n",
    "# Run the function\n",
    "calculate_grade()"
   ]
  },
  {
   "cell_type": "code",
   "execution_count": null,
   "id": "c4a47d73",
   "metadata": {},
   "outputs": [],
   "source": [
    "#Q3 B\n",
    "def check_triangle():\n",
    "    \n",
    "    try:\n",
    "        a = float(input(\"Enter side 1 length: \"))\n",
    "        b = float(input(\"Enter side 2 length: \"))\n",
    "        c = float(input(\"Enter side 3 length: \"))\n",
    "    except ValueError:\n",
    "        print(\"Invalid input. Please enter numbers.\")\n",
    "        return\n",
    "\n",
    "    if not (a + b > c and a + c > b and b + c > a):\n",
    "        print(\"Not a valid triangle.\")\n",
    "        return\n",
    "\n",
    "    if a == b == c:\n",
    "        print(\" Equilateral (All sides equal).\")\n",
    "    elif a == b or a == c or b == c:\n",
    "        print(\"Isosceles (Two sides equal).\")\n",
    "    else:\n",
    "        print(\"Scalene (No sides equal).\")\n",
    "\n",
    "check_triangle()"
   ]
  },
  {
   "cell_type": "code",
   "execution_count": null,
   "id": "ad568a7c",
   "metadata": {},
   "outputs": [],
   "source": []
  }
 ],
 "metadata": {
  "kernelspec": {
   "display_name": "Python 3 (ipykernel)",
   "language": "python",
   "name": "python3"
  },
  "language_info": {
   "codemirror_mode": {
    "name": "ipython",
    "version": 3
   },
   "file_extension": ".py",
   "mimetype": "text/x-python",
   "name": "python",
   "nbconvert_exporter": "python",
   "pygments_lexer": "ipython3",
   "version": "3.9.17"
  }
 },
 "nbformat": 4,
 "nbformat_minor": 5
}

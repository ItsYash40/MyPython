{
 "cells": [
  {
   "cell_type": "code",
   "execution_count": 1,
   "id": "6bb72163",
   "metadata": {},
   "outputs": [
    {
     "name": "stdout",
     "output_type": "stream",
     "text": [
      "Enter a: 20\n",
      "30\n"
     ]
    }
   ],
   "source": [
    "a = int(input(\"Enter a: \"))\n",
    "a=20\n",
    "b=10\n",
    "print(a+b)"
   ]
  },
  {
   "cell_type": "code",
   "execution_count": 2,
   "id": "90beb6d8",
   "metadata": {},
   "outputs": [
    {
     "name": "stdout",
     "output_type": "stream",
     "text": [
      "nananananananananananananananana Batman\n"
     ]
    }
   ],
   "source": [
    "a=\"nana\"\n",
    "b=8\n",
    "c=a*b\n",
    "print(c, \"Batman\")"
   ]
  },
  {
   "cell_type": "code",
   "execution_count": 9,
   "id": "5f1646c6",
   "metadata": {},
   "outputs": [
    {
     "ename": "SyntaxError",
     "evalue": "invalid syntax (1561162537.py, line 1)",
     "output_type": "error",
     "traceback": [
      "\u001b[0;36m  Cell \u001b[0;32mIn[9], line 1\u001b[0;36m\u001b[0m\n\u001b[0;31m    print(\"Hi! We are studying \"Python\".\\n I hope all are oing well. \\n We are going to have a great time\" )\u001b[0m\n\u001b[0m                                ^\u001b[0m\n\u001b[0;31mSyntaxError\u001b[0m\u001b[0;31m:\u001b[0m invalid syntax\n"
     ]
    }
   ],
   "source": [
    "print(\"Hi! We are studying \"Python\".\\n I hope all are oing well. \\n We are going to have a great time\" )\n"
   ]
  },
  {
   "cell_type": "code",
   "execution_count": 12,
   "id": "f5056fa4",
   "metadata": {},
   "outputs": [
    {
     "name": "stdout",
     "output_type": "stream",
     "text": [
      "My name is Debajyoti , and my mailing adress is : KOlkata , west Bengal , India , Earth , Solar System , Milkey way , observer Universe\n"
     ]
    }
   ],
   "source": [
    "val =\"My name is Debajyoti , and my mailing adress is : KOlkata , west Bengal , India , Earth , Solar System , Milkey way , observer Universe\"\n",
    "print(val)"
   ]
  },
  {
   "cell_type": "code",
   "execution_count": 18,
   "id": "3644e9df",
   "metadata": {},
   "outputs": [
    {
     "name": "stdout",
     "output_type": "stream",
     "text": [
      "194\n"
     ]
    }
   ],
   "source": [
    "def p(x):\n",
    "    return x*x*x + 2*x*x + 3*x + 4\n",
    "\n",
    "print(p(5))\n"
   ]
  },
  {
   "cell_type": "code",
   "execution_count": 21,
   "id": "26859ab8",
   "metadata": {},
   "outputs": [
    {
     "name": "stdout",
     "output_type": "stream",
     "text": [
      "Enter the radius 5\n",
      "The area of circle  78.5\n",
      "The volume of sphere  523.3333333333334\n"
     ]
    }
   ],
   "source": [
    "r=int(input(\"Enter the radius \"))\n",
    "pi = 3.14\n",
    "a= pi*r*r\n",
    "s= 4*pi*r*r*r/3\n",
    "print(\"The area of circle \",a)\n",
    "print(\"The volume of sphere \",s)\n"
   ]
  },
  {
   "cell_type": "code",
   "execution_count": 22,
   "id": "5cd4a095",
   "metadata": {},
   "outputs": [
    {
     "name": "stdout",
     "output_type": "stream",
     "text": [
      "Enter the positive integer10\n",
      "The sum of positive integers is  55.0\n"
     ]
    }
   ],
   "source": [
    "n= int(input(\"Enter the positive integer\"))\n",
    "sum= (n*(n+1))/2\n",
    "print(\"The sum of positive integers is \",sum)"
   ]
  },
  {
   "cell_type": "code",
   "execution_count": 26,
   "id": "ec70cdf3",
   "metadata": {},
   "outputs": [
    {
     "name": "stdout",
     "output_type": "stream",
     "text": [
      "Enter three numbers: 2 4 6\n",
      "Result of the expression is: True\n"
     ]
    }
   ],
   "source": [
    "a, b, c = map(int, input(\"Enter three numbers: \").split())\n",
    "ex = (a < b) or (not (c == b) and (c < a))\n",
    "print(f\"Result of the expression is: {ex}\")\n"
   ]
  },
  {
   "cell_type": "code",
   "execution_count": 29,
   "id": "7c2d9891",
   "metadata": {},
   "outputs": [
    {
     "name": "stdout",
     "output_type": "stream",
     "text": [
      "Enter the number of years: 10\n",
      "The amount after 10 year(s) is: 3105.85\n"
     ]
    }
   ],
   "source": [
    "p = 1000\n",
    "r = 12\n",
    "n = int(input(\"Enter the number of years: \"))\n",
    "\n",
    "a = p\n",
    "for i in range(n):\n",
    "    a = a * (1 + r/100)\n",
    "\n",
    "print(f\"The amount after {n} year(s) is: {a:.2f}\")\n"
   ]
  },
  {
   "cell_type": "code",
   "execution_count": 30,
   "id": "e3c227b2",
   "metadata": {},
   "outputs": [
    {
     "name": "stdout",
     "output_type": "stream",
     "text": [
      "e^pi = 23.140692632779263\n",
      "pi^e = 22.45915771836104\n",
      "Ok\n"
     ]
    }
   ],
   "source": [
    "import math\n",
    "\n",
    "e = math.e\n",
    "pi = math.pi\n",
    "\n",
    "val1 = e ** pi\n",
    "val2 = pi ** e\n",
    "\n",
    "print(f\"e^pi = {val1}\")\n",
    "print(f\"pi^e = {val2}\")\n",
    "\n",
    "if val1 > val2:\n",
    "    print(\"Ok\")\n",
    "else:\n",
    "    print(\"Ok, anyway.\")\n"
   ]
  },
  {
   "cell_type": "code",
   "execution_count": null,
   "id": "88b1dd25",
   "metadata": {},
   "outputs": [],
   "source": []
  },
  {
   "cell_type": "code",
   "execution_count": 32,
   "id": "266bae58",
   "metadata": {},
   "outputs": [
    {
     "name": "stdout",
     "output_type": "stream",
     "text": [
      "enter the cose of your orders food 1000\n",
      "Your Grand total  1280.0  Rupees only. Thank you , visit again !\n"
     ]
    }
   ],
   "source": [
    "a=int(input(\"enter the cose of your orders food \"))\n",
    "\n",
    "tax= a*10/100\n",
    "tip = a*18/100\n",
    "\n",
    "gt= a+tax+tip\n",
    "\n",
    "print(\"Your Grand total \" , gt, \" Rupees only. Thank you , visit again !\")"
   ]
  },
  {
   "cell_type": "code",
   "execution_count": 35,
   "id": "2b4d8544",
   "metadata": {},
   "outputs": [
    {
     "name": "stdout",
     "output_type": "stream",
     "text": [
      "Enter three numbers: 4 5\n",
      "Sum: 9\n",
      "Sub: -1\n",
      "Product: 20\n",
      "Quotient: 0.8\n",
      "Remainder: 4\n",
      "Log value (log base 10 of a): 0.6020599913279624\n",
      "a * b = 20\n"
     ]
    }
   ],
   "source": [
    "import math\n",
    "\n",
    "a, b = map(int, input(\"Enter three numbers: \").split())\n",
    "\n",
    "print(\"Sum:\", a + b)\n",
    "print(\"Sub:\", a - b)\n",
    "print(\"Product:\", a * b)\n",
    "print(\"Quotient:\", a / b)\n",
    "print(\"Remainder:\", a % b)\n",
    "print(\"Log value (log base 10 of a):\", math.log10(a))\n",
    "print(\"a * b =\", a * b)\n"
   ]
  },
  {
   "cell_type": "code",
   "execution_count": 37,
   "id": "c8b845ee",
   "metadata": {},
   "outputs": [
    {
     "name": "stdout",
     "output_type": "stream",
     "text": [
      "Enter height (in meters): 20\n",
      "Enter initial velocity (vi): 0\n",
      "Final velocity (vf) is: 19.79898987322333\n"
     ]
    }
   ],
   "source": [
    "import math\n",
    "\n",
    "d = int(input(\"Enter height (in meters): \"))\n",
    "vi = float(input(\"Enter initial velocity (vi): \"))\n",
    "a = 9.8\n",
    "\n",
    "vf = math.sqrt(vi**2 + 2 * a * d)\n",
    "print(f\"Final velocity (vf) is: {vf}\")\n"
   ]
  },
  {
   "cell_type": "code",
   "execution_count": 39,
   "id": "05a0d1ec",
   "metadata": {},
   "outputs": [
    {
     "name": "stdout",
     "output_type": "stream",
     "text": [
      "Enter cel 20\n",
      "37.77777777777778  deg F\n"
     ]
    }
   ],
   "source": [
    "import math\n",
    "\n",
    "c= int (input(\"Enter cel \"))\n",
    "f= (9*c + 32*5)/9\n",
    "print(f, \" deg F\")\n"
   ]
  },
  {
   "cell_type": "code",
   "execution_count": null,
   "id": "c4f93144",
   "metadata": {},
   "outputs": [],
   "source": []
  }
 ],
 "metadata": {
  "kernelspec": {
   "display_name": "Python 3 (ipykernel)",
   "language": "python",
   "name": "python3"
  },
  "language_info": {
   "codemirror_mode": {
    "name": "ipython",
    "version": 3
   },
   "file_extension": ".py",
   "mimetype": "text/x-python",
   "name": "python",
   "nbconvert_exporter": "python",
   "pygments_lexer": "ipython3",
   "version": "3.9.17"
  }
 },
 "nbformat": 4,
 "nbformat_minor": 5
}

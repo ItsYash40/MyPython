{
 "cells": [
  {
   "cell_type": "code",
   "execution_count": 1,
   "id": "92cd0d14",
   "metadata": {},
   "outputs": [
    {
     "name": "stdout",
     "output_type": "stream",
     "text": [
      "[ 0  1  2  3  4  5  6  7  8  9 10 11]\n",
      "[1, 3, 5]\n",
      "[1 3 5]\n",
      "[ True False  True False  True False  True False  True False  True False]\n",
      "[ 0  2  4  6  8 10]\n",
      "[ 0  1  2  3  4  5  6  7  8  9 10 11]\n",
      "[ True False  True False  True False  True False  True False  True False]\n",
      "[-1  1 -1  3 -1  5 -1  7 -1  9 -1 11]\n"
     ]
    }
   ],
   "source": [
    "import numpy as np\n",
    "\n",
    "arr_1D= np.arange(12)\n",
    "print(arr_1D)\n",
    "index=[1,3,5]\n",
    "print(index)\n",
    "print(arr_1D[index])\n",
    "\n",
    "#makin a mask function\n",
    "mask= arr_1D%2==0\n",
    "print(mask)\n",
    "print(arr_1D[mask])\n",
    "\n",
    "a2=arr_1D.copy()\n",
    "print(a2)\n",
    "print(a2%2==0)\n",
    "a2[a2%2==0]=-1\n",
    "print(a2)\n",
    "# arr_2D= np.arange(arr_1D[index])\n"
   ]
  },
  {
   "cell_type": "code",
   "execution_count": 6,
   "id": "2ab41206",
   "metadata": {},
   "outputs": [
    {
     "name": "stdout",
     "output_type": "stream",
     "text": [
      "[[1 2 3]\n",
      " [4 5 6]\n",
      " [7 8 9]]\n",
      "[[ 3.15251974e+15 -6.30503948e+15  3.15251974e+15]\n",
      " [-6.30503948e+15  1.26100790e+16 -6.30503948e+15]\n",
      " [ 3.15251974e+15 -6.30503948e+15  3.15251974e+15]]\n"
     ]
    }
   ],
   "source": [
    "#Inverse of array'\n",
    "\n",
    "import numpy as np\n",
    "\n",
    "a1 = [[1, 2, 3],\n",
    "        [4, 5, 6],\n",
    "        [7, 8, 9]]\n",
    "array_from_list = np.array(a1)\n",
    "print(array_from_list)    \n",
    "\n",
    "print(np.linalg.inv(a1))\n"
   ]
  },
  {
   "cell_type": "code",
   "execution_count": 10,
   "id": "e72599d6",
   "metadata": {},
   "outputs": [
    {
     "name": "stdout",
     "output_type": "stream",
     "text": [
      "[[[3]\n",
      "  [5]\n",
      "  [2]\n",
      "  [5]\n",
      "  [4]]\n",
      "\n",
      " [[6]\n",
      "  [1]\n",
      "  [5]\n",
      "  [1]\n",
      "  [7]]]\n"
     ]
    }
   ],
   "source": [
    "# a3D= np.zeros((2,3,3))\n",
    "# print(a3D)\n",
    "a4= np.random.randint(1,10,10).reshape(2, 5, 1)\n",
    "print(a4)"
   ]
  },
  {
   "cell_type": "code",
   "execution_count": null,
   "id": "7f089d1d",
   "metadata": {},
   "outputs": [],
   "source": []
  }
 ],
 "metadata": {
  "kernelspec": {
   "display_name": "Python 3 (ipykernel)",
   "language": "python",
   "name": "python3"
  },
  "language_info": {
   "codemirror_mode": {
    "name": "ipython",
    "version": 3
   },
   "file_extension": ".py",
   "mimetype": "text/x-python",
   "name": "python",
   "nbconvert_exporter": "python",
   "pygments_lexer": "ipython3",
   "version": "3.9.17"
  }
 },
 "nbformat": 4,
 "nbformat_minor": 5
}

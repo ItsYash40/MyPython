{
 "cells": [
  {
   "cell_type": "code",
   "execution_count": 9,
   "id": "e6c2e417-32ee-47fd-9bb0-e1dccd6c34e3",
   "metadata": {},
   "outputs": [
    {
     "name": "stdout",
     "output_type": "stream",
     "text": [
      "Array:  [1 2 3]\n",
      "nDim 1\n",
      "shape:  (3,)\n",
      "size:  3\n"
     ]
    }
   ],
   "source": [
    "#Create an 1D Array\n",
    "\n",
    "import numpy as np\n",
    "arr1= np.array([1,2,3])\n",
    "print(\"Array: \", arr1)\n",
    "print(\"nDim\", arr1.ndim)\n",
    "print(\"shape: \",arr1.shape )\n",
    "print(\"size: \",arr1.size)\n"
   ]
  },
  {
   "cell_type": "code",
   "execution_count": 15,
   "id": "28954149-8095-4980-91fe-4cbfb18ae615",
   "metadata": {},
   "outputs": [
    {
     "name": "stdout",
     "output_type": "stream",
     "text": [
      "Array:  [[1 2 3]\n",
      " [4 5 6]]\n",
      "nDim 2\n",
      "shape:  (2, 3)\n",
      "size:  6\n"
     ]
    }
   ],
   "source": [
    "#Create an 2D Array\n",
    "\n",
    "import numpy as np\n",
    "arr2= np.array([[1,2,3],[4,5,6]])\n",
    "print(\"Array: \", arr2)\n",
    "print(\"nDim\", arr2.ndim)\n",
    "print(\"shape: \",arr2.shape )\n",
    "print(\"size: \",arr2.size)"
   ]
  },
  {
   "cell_type": "code",
   "execution_count": 18,
   "id": "93278e04-1a6c-47bc-bd83-e6e7d94900bb",
   "metadata": {},
   "outputs": [
    {
     "ename": "ValueError",
     "evalue": "setting an array element with a sequence. The requested array has an inhomogeneous shape after 1 dimensions. The detected shape was (2,) + inhomogeneous part.",
     "output_type": "error",
     "traceback": [
      "\u001b[0;31m---------------------------------------------------------------------------\u001b[0m",
      "\u001b[0;31mValueError\u001b[0m                                Traceback (most recent call last)",
      "Cell \u001b[0;32mIn[18], line 2\u001b[0m\n\u001b[1;32m      1\u001b[0m \u001b[38;5;28;01mimport\u001b[39;00m \u001b[38;5;21;01mnumpy\u001b[39;00m \u001b[38;5;28;01mas\u001b[39;00m \u001b[38;5;21;01mnp\u001b[39;00m\n\u001b[0;32m----> 2\u001b[0m arr2\u001b[38;5;241m=\u001b[39m \u001b[43mnp\u001b[49m\u001b[38;5;241;43m.\u001b[39;49m\u001b[43marray\u001b[49m\u001b[43m(\u001b[49m\u001b[43m[\u001b[49m\u001b[43m[\u001b[49m\u001b[43m[\u001b[49m\u001b[38;5;241;43m1\u001b[39;49m\u001b[43m,\u001b[49m\u001b[38;5;241;43m2\u001b[39;49m\u001b[43m,\u001b[49m\u001b[38;5;241;43m3\u001b[39;49m\u001b[43m]\u001b[49m\u001b[43m,\u001b[49m\u001b[43m[\u001b[49m\u001b[38;5;241;43m4\u001b[39;49m\u001b[43m,\u001b[49m\u001b[38;5;241;43m5\u001b[39;49m\u001b[43m,\u001b[49m\u001b[38;5;241;43m6\u001b[39;49m\u001b[43m]\u001b[49m\u001b[43m]\u001b[49m\u001b[43m,\u001b[49m\u001b[43m \u001b[49m\u001b[43m[\u001b[49m\u001b[38;5;241;43m7\u001b[39;49m\u001b[43m,\u001b[49m\u001b[38;5;241;43m8\u001b[39;49m\u001b[43m,\u001b[49m\u001b[38;5;241;43m9\u001b[39;49m\u001b[43m]\u001b[49m\u001b[43m]\u001b[49m\u001b[43m)\u001b[49m\n\u001b[1;32m      3\u001b[0m \u001b[38;5;28mprint\u001b[39m(\u001b[38;5;124m\"\u001b[39m\u001b[38;5;124mArray: \u001b[39m\u001b[38;5;124m\"\u001b[39m, arr2)\n\u001b[1;32m      4\u001b[0m \u001b[38;5;28mprint\u001b[39m(\u001b[38;5;124m\"\u001b[39m\u001b[38;5;124mnDim\u001b[39m\u001b[38;5;124m\"\u001b[39m, arr2\u001b[38;5;241m.\u001b[39mndim)\n",
      "\u001b[0;31mValueError\u001b[0m: setting an array element with a sequence. The requested array has an inhomogeneous shape after 1 dimensions. The detected shape was (2,) + inhomogeneous part."
     ]
    }
   ],
   "source": [
    "\n",
    "\n",
    "import numpy as np\n",
    "arr2= np.array([[[1,2,3],[4,5,6]], [7,8,9]])\n",
    "print(\"Array: \", arr2)\n",
    "print(\"nDim\", arr2.ndim)\n",
    "print(\"shape: \",arr2.shape )\n",
    "print(\"size: \",arr2.size)"
   ]
  },
  {
   "cell_type": "code",
   "execution_count": 19,
   "id": "1bb9756b-6a05-4d15-b857-eebfeed5d050",
   "metadata": {},
   "outputs": [
    {
     "name": "stdout",
     "output_type": "stream",
     "text": [
      "Array:  [[[ 1  2  3]\n",
      "  [ 4  5  6]]\n",
      "\n",
      " [[ 7  8  9]\n",
      "  [10 11 12]]]\n",
      "nDim: 3\n",
      "shape: (2, 2, 3)\n",
      "size: 12\n"
     ]
    }
   ],
   "source": [
    "#Create an 3D Array\n",
    "\n",
    "import numpy as np\n",
    "\n",
    "arr2 = np.array([\n",
    "    [[1, 2, 3], [4, 5, 6]],   \n",
    "    [[7, 8, 9], [10, 11, 12]] \n",
    "])\n",
    "\n",
    "print(\"Array: \", arr2)\n",
    "print(\"nDim:\", arr2.ndim)\n",
    "print(\"shape:\", arr2.shape)\n",
    "print(\"size:\", arr2.size)\n"
   ]
  },
  {
   "cell_type": "code",
   "execution_count": 25,
   "id": "69a73fee-ba44-459c-aef6-92cf9c4d8e8d",
   "metadata": {},
   "outputs": [
    {
     "name": "stdout",
     "output_type": "stream",
     "text": [
      "Array: \n",
      " [[[1 2 3]\n",
      "  [4 5 6]]]\n",
      "All zero \n",
      " [[0. 0. 0.]\n",
      " [0. 0. 0.]]\n",
      "All one \n",
      " [[1. 1. 1.]\n",
      " [1. 1. 1.]]\n",
      "All empty \n",
      " [[1. 1. 1.]\n",
      " [1. 1. 1.]]\n",
      "All fill with 5 \n",
      " [[5 5 5]\n",
      " [5 5 5]]\n",
      "All identity \n",
      " [[1. 0. 0.]\n",
      " [0. 1. 0.]\n",
      " [0. 0. 1.]]\n"
     ]
    }
   ],
   "source": [
    "#Create an Special Array\n",
    "\n",
    "import numpy as np\n",
    "\n",
    "arr2 = np.array([\n",
    "    [[1, 2, 3], [4, 5, 6]],   \n",
    "    \n",
    "])\n",
    "\n",
    "print(\"Array: \\n\", arr2)\n",
    "print(\"All zero \\n\", np.zeros((2,3)))\n",
    "print(\"All one \\n\", np.ones((2,3)))\n",
    "print(\"All empty \\n\", np.empty((2,3)))\n",
    "print(\"All fill with 5 \\n\", np.full((2,3),5))\n",
    "print(\"All identity \\n\", np.identity((3)))\n",
    "\n"
   ]
  },
  {
   "cell_type": "code",
   "execution_count": 29,
   "id": "1f33b474-1408-4877-8ae5-68ba7ef5f233",
   "metadata": {},
   "outputs": [
    {
     "name": "stdout",
     "output_type": "stream",
     "text": [
      "[0 3 6 9]\n",
      "[ 0.   5.5 11. ]\n"
     ]
    }
   ],
   "source": [
    "# Array Creation with Range\n",
    "\n",
    "print(np.arange(0,11,3))\n",
    "print(np.linspace(0,11,3))\n"
   ]
  },
  {
   "cell_type": "code",
   "execution_count": null,
   "id": "7f1e09ae-969a-4114-aa13-541593cbce92",
   "metadata": {},
   "outputs": [],
   "source": []
  }
 ],
 "metadata": {
  "kernelspec": {
   "display_name": "Python 3 (ipykernel)",
   "language": "python",
   "name": "python3"
  },
  "language_info": {
   "codemirror_mode": {
    "name": "ipython",
    "version": 3
   },
   "file_extension": ".py",
   "mimetype": "text/x-python",
   "name": "python",
   "nbconvert_exporter": "python",
   "pygments_lexer": "ipython3",
   "version": "3.9.17"
  }
 },
 "nbformat": 4,
 "nbformat_minor": 5
}

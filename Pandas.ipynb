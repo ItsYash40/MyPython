{
 "cells": [
  {
   "cell_type": "code",
   "execution_count": 3,
   "id": "d0341ac5",
   "metadata": {},
   "outputs": [
    {
     "name": "stdout",
     "output_type": "stream",
     "text": [
      "0    10\n",
      "1     2\n",
      "2     5\n",
      "3     7\n",
      "dtype: int64\n",
      "0     1\n",
      "1    20\n",
      "2     3\n",
      "3     6\n",
      "dtype: int64\n",
      "w    1\n",
      "x    4\n",
      "y    6\n",
      "z    3\n",
      "dtype: int64\n"
     ]
    }
   ],
   "source": [
    "import numpy as np\n",
    "import pandas as pd\n",
    "\n",
    "ls = [10, 2, 5, 7]\n",
    "tup = (1, 20, 3, 6)\n",
    "dist = {'w': 1, 'x': 4, 'y': 6, 'z': 3}\n",
    "st = {1, 34, 56, 78}\n",
    "a1=np.arange(0,10)\n",
    "a2=np.arange(0,6).reshape((2, 3)) \n",
    "a3=np.arange(0,18).reshape((2, 3, 3))\n",
    "\n",
    "s1 = pd.Series(ls)\n",
    "print(s1)\n",
    "s2 = pd.Series(tup)\n",
    "print(s2)\n",
    "s3 = pd.Series(dist)\n",
    "print(s3)"
   ]
  },
  {
   "cell_type": "code",
   "execution_count": 7,
   "id": "d624ac6f",
   "metadata": {},
   "outputs": [
    {
     "data": {
      "text/plain": [
       "a    10\n",
       "b    10\n",
       "c    10\n",
       "dtype: int64"
      ]
     },
     "execution_count": 7,
     "metadata": {},
     "output_type": "execute_result"
    }
   ],
   "source": [
    "#Scaler\n",
    "s4=pd.Series(10, index=['a','b','c'])\n",
    "\n",
    "s4"
   ]
  },
  {
   "cell_type": "code",
   "execution_count": null,
   "id": "78290156",
   "metadata": {},
   "outputs": [],
   "source": []
  }
 ],
 "metadata": {
  "kernelspec": {
   "display_name": "Python 3 (ipykernel)",
   "language": "python",
   "name": "python3"
  },
  "language_info": {
   "codemirror_mode": {
    "name": "ipython",
    "version": 3
   },
   "file_extension": ".py",
   "mimetype": "text/x-python",
   "name": "python",
   "nbconvert_exporter": "python",
   "pygments_lexer": "ipython3",
   "version": "3.9.17"
  }
 },
 "nbformat": 4,
 "nbformat_minor": 5
}

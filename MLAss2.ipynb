{
 "cells": [
  {
   "cell_type": "code",
   "execution_count": 10,
   "id": "4777791c",
   "metadata": {},
   "outputs": [
    {
     "name": "stdout",
     "output_type": "stream",
     "text": [
      "Accurecy score:\n",
      "  0.660377358490566\n",
      "Confusion Matrix:\n",
      " [[12  0  0  0  0  0]\n",
      " [ 0  6  0  0  0  1]\n",
      " [ 3  0  6  0  0  1]\n",
      " [ 0  0  0  3  5  2]\n",
      " [ 0  0  0  0  5  1]\n",
      " [ 0  1  0  1  3  3]]\n"
     ]
    }
   ],
   "source": [
    "#Q4 \n",
    "\n",
    "import pandas as pd\n",
    "from sklearn.model_selection import train_test_split\n",
    "from sklearn.ensemble import RandomForestClassifier\n",
    "from sklearn.metrics import accuracy_score, confusion_matrix\n",
    "\n",
    "data = pd.read_csv('btissue(1).csv')\n",
    "X = data.iloc[:, :-1]\n",
    "Y = data.iloc[:, -1]  \n",
    "\n",
    "X_train, X_test, Y_train, Y_test = train_test_split(X, Y, test_size=0.5, random_state=100)\n",
    "\n",
    "rf = RandomForestClassifier(random_state=123)\n",
    "rf.fit(X_train, Y_train)\n",
    "\n",
    "Y_pred = rf.predict(X_test)\n",
    "\n",
    "print(\"Accurecy score:\\n \",accuracy_score(Y_test, Y_pred))\n",
    "print(\"Confusion Matrix:\\n\", confusion_matrix(Y_test, Y_pred))\n"
   ]
  },
  {
   "cell_type": "code",
   "execution_count": 12,
   "id": "1ca42a09",
   "metadata": {},
   "outputs": [
    {
     "name": "stdout",
     "output_type": "stream",
     "text": [
      "11.288925521020799\n",
      "0.7965676976561301\n"
     ]
    }
   ],
   "source": [
    "#Q5\n",
    "\n",
    "import pandas as pd\n",
    "from sklearn.model_selection import train_test_split\n",
    "from sklearn.linear_model import LinearRegression\n",
    "from sklearn.metrics import mean_squared_error, r2_score \n",
    "\n",
    "data = pd.read_csv('auto_mpg.csv')\n",
    "data = data.dropna(axis=0, how='any')\n",
    "\n",
    "X = data.iloc[:, 1:8]\n",
    "Y = data.iloc[:, 0]\n",
    "\n",
    "X_train, X_test, Y_train, Y_test = train_test_split(X, Y, test_size=0.5, random_state=100)\n",
    "model = LinearRegression().fit(X_train, Y_train)\n",
    "Y_pred = model.predict(X_test)\n",
    "\n",
    "print(mean_squared_error(Y_test, Y_pred))\n",
    "print(r2_score(Y_test, Y_pred))\n"
   ]
  },
  {
   "cell_type": "code",
   "execution_count": null,
   "id": "ccce3496",
   "metadata": {},
   "outputs": [],
   "source": []
  }
 ],
 "metadata": {
  "kernelspec": {
   "display_name": "Python 3 (ipykernel)",
   "language": "python",
   "name": "python3"
  },
  "language_info": {
   "codemirror_mode": {
    "name": "ipython",
    "version": 3
   },
   "file_extension": ".py",
   "mimetype": "text/x-python",
   "name": "python",
   "nbconvert_exporter": "python",
   "pygments_lexer": "ipython3",
   "version": "3.9.17"
  }
 },
 "nbformat": 4,
 "nbformat_minor": 5
}

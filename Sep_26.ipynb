{
 "cells": [
  {
   "cell_type": "code",
   "execution_count": 26,
   "id": "723544ba",
   "metadata": {},
   "outputs": [
    {
     "name": "stdout",
     "output_type": "stream",
     "text": [
      "List 1  [1, 2, 3, 4, 5, 6, 7, 8, 9]\n",
      "List 2  [11, 12, 13, 14, 15, 16, 17, 18, 19]\n",
      "15    5\n",
      "16    6\n",
      "17    7\n",
      "18    8\n",
      "19    9\n",
      "dtype: int64\n",
      "15    5\n",
      "dtype: int64\n",
      "Series([], dtype: object)\n"
     ]
    }
   ],
   "source": [
    "import numpy as np\n",
    "import pandas as pd\n",
    "\n",
    "l1= [x for x in range(1,10)]\n",
    "l2= [x for x in range(11,20)]\n",
    "s1=pd.Series(l1, index=l2)\n",
    "\n",
    "print('List 1 ',l1)\n",
    "print('List 2 ',l2)\n",
    "#Label Baseabsd\n",
    "print(s1[4:14])\n",
    "\n",
    "#Index Based\n",
    "print(s1[4:5])\n",
    "\n",
    "'''\n",
    "# For another Sequences\n",
    "tup = (1, 20, 3, 6)\n",
    "dist = {'w': 1, 'x': 4, 'y': 6, 'z': 3}\n",
    "st = {1, 34, 56, 78}\n",
    "a1=np.arange(0,10)\n",
    "a2=np.arange(0,6).reshape((2, 3)) \n",
    "a3=np.arange(0,18).reshape((2, 3, 3))\n",
    "'''\n",
    "\n",
    "#For 2D  array\n",
    "s3=pd.Series([[2,3]], index=['2'])\n",
    "# print(s3[1:2])\n",
    "\n",
    "print(s3.iloc[1:3])"
   ]
  },
  {
   "cell_type": "code",
   "execution_count": 28,
   "id": "1bcf4794",
   "metadata": {},
   "outputs": [
    {
     "name": "stdout",
     "output_type": "stream",
     "text": [
      "[1, 2, 3, 4, 5, 6, 7, 8, 9, 11, 12, 13, 14, 15, 16, 17, 18, 19]\n",
      "   x  y  z\n",
      "0  a  d  1\n",
      "1  b  e  2\n",
      "2  c  f  3\n"
     ]
    }
   ],
   "source": [
    "#Arithimatic & aignment\n",
    "print(l1+l2)\n",
    "d1={'x':['a','b','c'], 'y':['d','e','f'], 'z':[1,2,3]}\n",
    "df=pd.DataFrame(d1)\n",
    "print(df)"
   ]
  },
  {
   "cell_type": "code",
   "execution_count": null,
   "id": "c04d844d",
   "metadata": {},
   "outputs": [],
   "source": []
  }
 ],
 "metadata": {
  "kernelspec": {
   "display_name": "Python 3 (ipykernel)",
   "language": "python",
   "name": "python3"
  },
  "language_info": {
   "codemirror_mode": {
    "name": "ipython",
    "version": 3
   },
   "file_extension": ".py",
   "mimetype": "text/x-python",
   "name": "python",
   "nbconvert_exporter": "python",
   "pygments_lexer": "ipython3",
   "version": "3.9.17"
  }
 },
 "nbformat": 4,
 "nbformat_minor": 5
}

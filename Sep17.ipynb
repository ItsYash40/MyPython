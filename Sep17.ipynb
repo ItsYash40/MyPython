{
 "cells": [
  {
   "cell_type": "code",
   "execution_count": 1,
   "id": "f2b1876a-21e6-4003-ad1f-9164d1d33c3c",
   "metadata": {},
   "outputs": [
    {
     "name": "stdout",
     "output_type": "stream",
     "text": [
      "[[[0. 0. 0. 0.]\n",
      "  [0. 0. 0. 0.]\n",
      "  [0. 0. 0. 0.]]\n",
      "\n",
      " [[0. 0. 0. 0.]\n",
      "  [0. 0. 0. 0.]\n",
      "  [0. 0. 0. 0.]]]\n"
     ]
    }
   ],
   "source": [
    "import numpy as np\n",
    "arr= np.array([10,20,30])\n",
    "arr1= np.zeros(arr)\n",
    "arr2=np.zeros([2,3,4])\n",
    "print(arr2)"
   ]
  },
  {
   "cell_type": "code",
   "execution_count": 6,
   "id": "0960138e-8ef2-46ee-ae5f-eda468075624",
   "metadata": {},
   "outputs": [
    {
     "name": "stdout",
     "output_type": "stream",
     "text": [
      "[[ 0  1  2]\n",
      " [ 3  4  5]\n",
      " [ 6  7  8]\n",
      " [ 9 10 11]]\n"
     ]
    }
   ],
   "source": [
    "import numpy as np\n",
    "arr= np.array([10,20,30])\n",
    "arr=np.arange(12).reshape(4,3)\n",
    "# arr=np.linspace(0,3,5)\n",
    "print(arr)"
   ]
  },
  {
   "cell_type": "code",
   "execution_count": 7,
   "id": "9b0aa232-8834-4002-a653-a4d14ad19765",
   "metadata": {},
   "outputs": [
    {
     "name": "stdout",
     "output_type": "stream",
     "text": [
      "[[1. 1. 1.]\n",
      " [1. 1. 1.]\n",
      " [1. 1. 1.]\n",
      " [1. 1. 1.]]\n"
     ]
    }
   ],
   "source": [
    "#ones\n",
    "arr3= np.ones((4,3))\n",
    "print(arr3)"
   ]
  },
  {
   "cell_type": "code",
   "execution_count": 11,
   "id": "b2cbe5fe-a1c3-423c-94f8-cbb32b96aad7",
   "metadata": {},
   "outputs": [
    {
     "name": "stdout",
     "output_type": "stream",
     "text": [
      "[[1. 0. 0. 0.]\n",
      " [0. 1. 0. 0.]\n",
      " [0. 0. 1. 0.]]\n"
     ]
    }
   ],
   "source": [
    "# Eye matrix\n",
    "arr4= np.eye(3,2)\n",
    "arr4a= np.eye(3,4)\n",
    "\n",
    "print(arr4a)"
   ]
  },
  {
   "cell_type": "code",
   "execution_count": 20,
   "id": "52211a96-2cdd-4e90-a746-19f138ada4de",
   "metadata": {},
   "outputs": [
    {
     "name": "stdout",
     "output_type": "stream",
     "text": [
      "[1. 2. 3. 4. 5.]\n"
     ]
    }
   ],
   "source": [
    "#Type Conversion \n",
    "arr5=np.arange(1,6)\n",
    "arr5a=arr5.astype(np.float32)\n",
    "print(arr5a)"
   ]
  },
  {
   "cell_type": "code",
   "execution_count": 30,
   "id": "ced19ea0-3f6a-4459-a6cf-570c859e97da",
   "metadata": {},
   "outputs": [
    {
     "name": "stdout",
     "output_type": "stream",
     "text": [
      "[2 3 4]\n",
      "[2 4]\n",
      "[2 3]\n"
     ]
    }
   ],
   "source": [
    "#Slicing and Indexing\n",
    "# arr=np.arange(0,90,10).reshape(3,3)\n",
    "arr=np.arange(0,9)\n",
    "print(arr[2:5])\n",
    "print(arr[2:5:2]) #skiping\n",
    "print(arr[2:-5])"
   ]
  },
  {
   "cell_type": "code",
   "execution_count": 45,
   "id": "ac1b31f0-19c5-4034-be84-549314d2658f",
   "metadata": {},
   "outputs": [
    {
     "name": "stdout",
     "output_type": "stream",
     "text": [
      "[[[ 0  1  2  3]\n",
      "  [ 4  5  6  7]\n",
      "  [ 8  9 10 11]\n",
      "  [12 13 14 15]]\n",
      "\n",
      " [[16 17 18 19]\n",
      "  [20 21 22 23]\n",
      "  [24 25 26 27]\n",
      "  [28 29 30 31]]]\n",
      "[[[0]]]\n"
     ]
    }
   ],
   "source": [
    "#for 3D\n",
    "arr3D=np.arange(32).reshape(2,4,4)\n",
    "print(arr3D)\n",
    "print(arr3D[0:1, 0:1, 0:1])"
   ]
  },
  {
   "cell_type": "code",
   "execution_count": 51,
   "id": "500b6f84-622e-4fd0-95e7-f01564f7098c",
   "metadata": {},
   "outputs": [
    {
     "name": "stdout",
     "output_type": "stream",
     "text": [
      "[1 2 3]\n",
      "[0 2 4 6 8]\n",
      "[-100    1 -100    3 -100    5 -100    7 -100]\n"
     ]
    }
   ],
   "source": [
    "#Boolean Indexing\n",
    "arr=np.arange(9)\n",
    "indices=[1,2,3]\n",
    "print(arr[indices])\n",
    "\n",
    "#Copy after creating mask\n",
    "mask= arr%2 ==0\n",
    "print(arr[mask])\n",
    "arr2=arr.copy()\n",
    "arr2[arr2%2==0]=-100\n",
    "print(arr2)"
   ]
  },
  {
   "cell_type": "code",
   "execution_count": 65,
   "id": "591565e9-eb05-43a5-b6b5-41ffea867294",
   "metadata": {},
   "outputs": [
    {
     "name": "stdout",
     "output_type": "stream",
     "text": [
      "[[1 2 3]\n",
      " [4 5 6]\n",
      " [7 8 9]]\n",
      "[[1.         1.41421356 1.73205081]\n",
      " [2.         2.23606798 2.44948974]\n",
      " [2.64575131 2.82842712 3.        ]]\n",
      "45\n",
      "Sum of rows  [ 6 15 24]\n",
      "Mean of array :  5.0\n"
     ]
    }
   ],
   "source": [
    "#Common functions (UFuncs)\n",
    "arr=np.arange(1,10).reshape(3,3)\n",
    "print(arr)\n",
    "arr1=np.sqrt(arr)\n",
    "print(arr1)\n",
    "arr2=np.sum(arr)\n",
    "print(arr2)\n",
    "arr3=np.sum(arr, axis=1)\n",
    "print(\"Sum of rows \",arr3)\n",
    "arr4= np.mean(arr)\n",
    "print(\"Mean of array : \",arr4)"
   ]
  },
  {
   "cell_type": "code",
   "execution_count": 69,
   "id": "0bd12aef-40de-445f-8b52-bb7ccd4516cf",
   "metadata": {},
   "outputs": [
    {
     "name": "stdout",
     "output_type": "stream",
     "text": [
      "Cumsum\n",
      " [ 1  3  6 10 15 21 28 36 45]\n"
     ]
    }
   ],
   "source": [
    "arr5=np.cumsum(arr)\n",
    "print(\"Cumsum\\n\",arr5)"
   ]
  },
  {
   "cell_type": "code",
   "execution_count": 72,
   "id": "4f8a3aad-5bb3-4607-97b5-ba01efdfe85a",
   "metadata": {},
   "outputs": [
    {
     "name": "stdout",
     "output_type": "stream",
     "text": [
      "2D arr : [[ 1]\n",
      " [ 2]\n",
      " [ 3]\n",
      " [ 4]\n",
      " [ 5]\n",
      " [ 6]\n",
      " [ 7]\n",
      " [ 8]\n",
      " [ 9]\n",
      " [10]]\n",
      "1D arr : [[1.         1.41421356 1.73205081]\n",
      " [2.         2.23606798 2.44948974]\n",
      " [2.64575131 2.82842712 3.        ]]\n",
      "[[ 8.41100282  9.47547071 10.39230485]\n",
      " [12.95287665 14.75663036 16.28979642]\n",
      " [16.23985949 18.55149408 20.51077893]]\n"
     ]
    }
   ],
   "source": [
    "# Linear Algebra\n",
    "arr= np.arange(1,11).reshape(10,1)\n",
    "arrr1=np.arange(1,10)\n",
    "print(\"2D arr :\", arr)\n",
    "print(\"1D arr :\", arr1)\n",
    "\n",
    "#x=np.linalg.solve(arr, arr1)\n",
    "print(arr1.dot(arr1))"
   ]
  },
  {
   "cell_type": "code",
   "execution_count": 88,
   "id": "f8333c9b-df7b-45e7-aab1-bf9203a6cb23",
   "metadata": {},
   "outputs": [
    {
     "name": "stdout",
     "output_type": "stream",
     "text": [
      "[[0.78742269 0.83366933 0.54790446]\n",
      " [0.9734491  0.23683356 0.64692334]]\n"
     ]
    }
   ],
   "source": [
    "import numpy as np\n",
    "\n",
    "# Create a random number generator instance\n",
    "arr = np.random.default_rng(50)\n",
    "\n",
    "random_arr = arr.random((2, 3))\n",
    "print(random_arr)\n"
   ]
  },
  {
   "cell_type": "code",
   "execution_count": null,
   "id": "d32c2196-65d1-42f2-8882-1d91c83a7231",
   "metadata": {},
   "outputs": [],
   "source": []
  }
 ],
 "metadata": {
  "kernelspec": {
   "display_name": "Python 3 (ipykernel)",
   "language": "python",
   "name": "python3"
  },
  "language_info": {
   "codemirror_mode": {
    "name": "ipython",
    "version": 3
   },
   "file_extension": ".py",
   "mimetype": "text/x-python",
   "name": "python",
   "nbconvert_exporter": "python",
   "pygments_lexer": "ipython3",
   "version": "3.9.17"
  }
 },
 "nbformat": 4,
 "nbformat_minor": 5
}

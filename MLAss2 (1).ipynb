{
 "cells": [
  {
   "cell_type": "code",
   "execution_count": 10,
   "id": "4777791c",
   "metadata": {},
   "outputs": [
    {
     "name": "stdout",
     "output_type": "stream",
     "text": [
      "Accurecy score:\n",
      "  0.660377358490566\n",
      "Confusion Matrix:\n",
      " [[12  0  0  0  0  0]\n",
      " [ 0  6  0  0  0  1]\n",
      " [ 3  0  6  0  0  1]\n",
      " [ 0  0  0  3  5  2]\n",
      " [ 0  0  0  0  5  1]\n",
      " [ 0  1  0  1  3  3]]\n"
     ]
    }
   ],
   "source": [
    "#Q4 \n",
    "\n",
    "import pandas as pd\n",
    "from sklearn.model_selection import train_test_split\n",
    "from sklearn.ensemble import RandomForestClassifier\n",
    "from sklearn.metrics import accuracy_score, confusion_matrix\n",
    "\n",
    "data = pd.read_csv('btissue(1).csv')\n",
    "X = data.iloc[:, :-1]\n",
    "Y = data.iloc[:, -1]  \n",
    "\n",
    "X_train, X_test, Y_train, Y_test = train_test_split(X, Y, test_size=0.5, random_state=100)\n",
    "\n",
    "rf = RandomForestClassifier(random_state=123)\n",
    "rf.fit(X_train, Y_train)\n",
    "\n",
    "Y_pred = rf.predict(X_test)\n",
    "\n",
    "print(\"Accurecy score:\\n \",accuracy_score(Y_test, Y_pred))\n",
    "print(\"Confusion Matrix:\\n\", confusion_matrix(Y_test, Y_pred))\n"
   ]
  },
  {
   "cell_type": "code",
   "execution_count": 12,
   "id": "1ca42a09",
   "metadata": {},
   "outputs": [
    {
     "name": "stdout",
     "output_type": "stream",
     "text": [
      "11.288925521020799\n",
      "0.7965676976561301\n"
     ]
    }
   ],
   "source": [
    "#Q5\n",
    "\n",
    "import pandas as pd\n",
    "from sklearn.model_selection import train_test_split\n",
    "from sklearn.linear_model import LinearRegression\n",
    "from sklearn.metrics import mean_squared_error, r2_score \n",
    "\n",
    "data = pd.read_csv('auto_mpg.csv')\n",
    "data = data.dropna(axis=0, how='any')\n",
    "\n",
    "X = data.iloc[:, 1:8]\n",
    "Y = data.iloc[:, 0]\n",
    "\n",
    "X_train, X_test, Y_train, Y_test = train_test_split(X, Y, test_size=0.5, random_state=100)\n",
    "model = LinearRegression().fit(X_train, Y_train)\n",
    "Y_pred = model.predict(X_test)\n",
    "\n",
    "print(mean_squared_error(Y_test, Y_pred))\n",
    "print(r2_score(Y_test, Y_pred))\n"
   ]
  },
  {
   "cell_type": "code",
   "execution_count": 7,
   "id": "ccce3496",
   "metadata": {},
   "outputs": [
    {
     "name": "stdout",
     "output_type": "stream",
     "text": [
      "          Col1       Col2       Col3       Col4        Col5       Col6  \\\n",
      "0    63.027817  22.552586  39.609117  40.475232   98.672917  -0.254400   \n",
      "1    39.056951  10.060991  25.015378  28.995960  114.405425   4.564259   \n",
      "2    68.832021  22.218482  50.092194  46.613539  105.985135  -3.530317   \n",
      "3    69.297008  24.652878  44.311238  44.644130  101.868495  11.211523   \n",
      "4    49.712859   9.652075  28.317406  40.060784  108.168725   7.918501   \n",
      "..         ...        ...        ...        ...         ...        ...   \n",
      "305  47.903565  13.616688  36.000000  34.286877  117.449062  -4.245395   \n",
      "306  53.936748  20.721496  29.220534  33.215251  114.365845  -0.421010   \n",
      "307  61.446597  22.694968  46.170347  38.751628  125.670725  -2.707880   \n",
      "308  45.252792   8.693157  41.583126  36.559635  118.545842   0.214750   \n",
      "309  33.841641   5.073991  36.641233  28.767649  123.945244  -0.199249   \n",
      "\n",
      "         Col7     Col8     Col9     Col10      Col11  \n",
      "0    0.744503  12.5661  14.5386  15.30468 -28.658501  \n",
      "1    0.415186  12.8874  17.5323  16.78486 -25.530607  \n",
      "2    0.474889  26.8343  17.4861  16.65897 -29.031888  \n",
      "3    0.369345  23.5603  12.7074  11.42447 -30.470246  \n",
      "4    0.543360  35.4940  15.9546   8.87237 -16.378376  \n",
      "..        ...      ...      ...       ...        ...  \n",
      "305  0.129744   7.8433  14.7484   8.51707 -15.728927  \n",
      "306  0.047913  19.1986  18.1972   7.08745   6.013843  \n",
      "307  0.081070  16.2059  13.5565   8.89572   3.564463  \n",
      "308  0.159251  14.7334  16.0928   9.75922   5.767308  \n",
      "309  0.674504  19.3825  17.6963  13.72929   1.783007  \n",
      "\n",
      "[310 rows x 11 columns]\n",
      "0.19950685588274256\n",
      "0.29716412255619395\n"
     ]
    }
   ],
   "source": [
    "#Q6\n",
    "\n",
    "import pandas as pd\n",
    "import numpy as np\n",
    "from sklearn.cluster import KMeans\n",
    "from sklearn.metrics.cluster import v_measure_score\n",
    "from sklearn.metrics import silhouette_score\n",
    "\n",
    "data = pd.read_csv(\"Dataset_spine.csv\")\n",
    "data_1 = data.iloc[:, :11]\n",
    "print(data_1)\n",
    "data_2 = data.iloc[:, 12]\n",
    "\n",
    "kmeans = KMeans(n_clusters=3, random_state=123, n_init=1)\n",
    "kmeans.fit(data_1)\n",
    "cluster_label = kmeans.predict(data_1)\n",
    "\n",
    "v = v_measure_score(data_2, cluster_label)  \n",
    "s = silhouette_score(data_1, cluster_label, metric='euclidean', sample_size=len(data_1))\n",
    "\n",
    "print(v)\n",
    "print(s)\n"
   ]
  },
  {
   "cell_type": "code",
   "execution_count": null,
   "id": "1c979a26",
   "metadata": {},
   "outputs": [],
   "source": []
  }
 ],
 "metadata": {
  "kernelspec": {
   "display_name": "Python 3 (ipykernel)",
   "language": "python",
   "name": "python3"
  },
  "language_info": {
   "codemirror_mode": {
    "name": "ipython",
    "version": 3
   },
   "file_extension": ".py",
   "mimetype": "text/x-python",
   "name": "python",
   "nbconvert_exporter": "python",
   "pygments_lexer": "ipython3",
   "version": "3.9.17"
  }
 },
 "nbformat": 4,
 "nbformat_minor": 5
}

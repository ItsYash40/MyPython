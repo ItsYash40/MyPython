{
 "cells": [
  {
   "cell_type": "code",
   "execution_count": 2,
   "id": "26897c5b-e8b0-4c2d-89df-0138e8a9d0fb",
   "metadata": {},
   "outputs": [],
   "source": [
    "################# ML LAB ASSIGNMENT 1 ################\n",
    "\n",
    "#Submited by : Debajyoti Bhakta\n",
    "# Reg No. 2341002155 | Section: 23412G1 | Sl no. 09\n"
   ]
  },
  {
   "cell_type": "code",
   "execution_count": null,
   "id": "211d948c-d437-472f-9263-001703d79c70",
   "metadata": {},
   "outputs": [
    {
     "name": "stdout",
     "output_type": "stream",
     "text": [
      "Enter Marks: \n"
     ]
    },
    {
     "name": "stdout",
     "output_type": "stream",
     "text": [
      " 95\n"
     ]
    },
    {
     "name": "stdout",
     "output_type": "stream",
     "text": [
      "95\n",
      "A\n"
     ]
    }
   ],
   "source": [
    "#Q1. \n",
    "print(\"Enter Marks: \")\n",
    "marks = int( input())\n",
    "print(marks)\n",
    "\n",
    "if(marks<=100):\n",
    "    if(marks>=90):\n",
    "        print('A')\n",
    "    elif(marks>=75 and marks<=89):\n",
    "        print('B')\n",
    "    elif(marks>=50 and marks<=74):\n",
    "        print('C')\n",
    "    elif(marks<=50):\n",
    "        print('Fail')\n",
    "        \n",
    "else:\n",
    "    print('No result')"
   ]
  },
  {
   "cell_type": "code",
   "execution_count": null,
   "id": "7b8e1e89-f8e8-4418-b68f-8ad8b3b7df9c",
   "metadata": {},
   "outputs": [
    {
     "name": "stdout",
     "output_type": "stream",
     "text": [
      "Enter a Number\n"
     ]
    },
    {
     "name": "stdout",
     "output_type": "stream",
     "text": [
      " 23\n"
     ]
    }
   ],
   "source": [
    "#Q2\n",
    "print(\"Enter a Number\")\n",
    "n = int(input())   \n",
    "total = 0\n",
    "\n",
    "while n > 0:\n",
    "    digit = n % 10      \n",
    "    total += digit      \n",
    "    n = n // 10         \n",
    "\n",
    "print(\"Sum of digits:\", total)\n"
   ]
  },
  {
   "cell_type": "code",
   "execution_count": null,
   "id": "6f1bbb4e-bde2-4d2d-a580-cb21b066a28e",
   "metadata": {},
   "outputs": [],
   "source": [
    "#3\n"
   ]
  }
 ],
 "metadata": {
  "kernelspec": {
   "display_name": "Python [conda env:base] *",
   "language": "python",
   "name": "conda-base-py"
  },
  "language_info": {
   "codemirror_mode": {
    "name": "ipython",
    "version": 3
   },
   "file_extension": ".py",
   "mimetype": "text/x-python",
   "name": "python",
   "nbconvert_exporter": "python",
   "pygments_lexer": "ipython3",
   "version": "3.12.7"
  }
 },
 "nbformat": 4,
 "nbformat_minor": 5
}

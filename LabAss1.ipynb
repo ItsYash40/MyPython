{
 "cells": [
  {
   "cell_type": "code",
   "execution_count": 2,
   "id": "26897c5b-e8b0-4c2d-89df-0138e8a9d0fb",
   "metadata": {},
   "outputs": [],
   "source": [
    "################# ML LAB ASSIGNMENT 1 ################\n",
    "\n",
    "#Submited by : Debajyoti Bhakta\n",
    "# Reg No. 2341002155 | Section: 23412G1 | Sl no. 09\n"
   ]
  },
  {
   "cell_type": "code",
   "execution_count": 6,
   "id": "211d948c-d437-472f-9263-001703d79c70",
   "metadata": {},
   "outputs": [
    {
     "name": "stdout",
     "output_type": "stream",
     "text": [
      "Enter Marks: \n"
     ]
    },
    {
     "name": "stdin",
     "output_type": "stream",
     "text": [
      " 95\n"
     ]
    },
    {
     "name": "stdout",
     "output_type": "stream",
     "text": [
      "95\n",
      "A\n"
     ]
    }
   ],
   "source": [
    "#Q1. \n",
    "print(\"Enter Marks: \")\n",
    "marks = int( input())\n",
    "print(marks)\n",
    "\n",
    "if(marks<=100):\n",
    "    if(marks>=90):\n",
    "        print('A')\n",
    "    elif(marks>=75 and marks<=89):\n",
    "        print('B')\n",
    "    elif(marks>=50 and marks<=74):\n",
    "        print('C')\n",
    "    elif(marks<=50):\n",
    "        print('Fail')\n",
    "        \n",
    "else:\n",
    "    print('No result')"
   ]
  },
  {
   "cell_type": "code",
   "execution_count": 1,
   "id": "7b8e1e89-f8e8-4418-b68f-8ad8b3b7df9c",
   "metadata": {},
   "outputs": [
    {
     "name": "stdout",
     "output_type": "stream",
     "text": [
      "Enter a Number\n"
     ]
    },
    {
     "name": "stdin",
     "output_type": "stream",
     "text": [
      " 23\n"
     ]
    },
    {
     "name": "stdout",
     "output_type": "stream",
     "text": [
      "Sum of digits: 5\n"
     ]
    }
   ],
   "source": [
    "#Q2\n",
    "print(\"Enter a Number\")\n",
    "n = int(input())   \n",
    "total = 0\n",
    "\n",
    "while n > 0:\n",
    "    digit = n % 10      \n",
    "    total += digit      \n",
    "    n = n // 10         \n",
    "\n",
    "print(\"Sum of digits:\", total)\n"
   ]
  },
  {
   "cell_type": "code",
   "execution_count": 5,
   "id": "6f1bbb4e-bde2-4d2d-a580-cb21b066a28e",
   "metadata": {},
   "outputs": [
    {
     "name": "stdout",
     "output_type": "stream",
     "text": [
      "0 -> False\n",
      "1 -> False\n",
      "2 -> True\n",
      "3 -> None\n",
      "4 -> False\n",
      "5 -> None\n",
      "11 -> None\n",
      "16 -> False\n",
      "17 -> None\n",
      "19 -> None\n",
      "20 -> False\n",
      "23 -> None\n",
      "25 -> None\n",
      "29 -> None\n",
      "97 -> None\n",
      "100 -> False\n"
     ]
    }
   ],
   "source": [
    "#Q3\n",
    "def is_prime(n):\n",
    "    if n <= 1:\n",
    "        return False\n",
    "    if n == 2:\n",
    "        return True\n",
    "    if n % 2 == 0:\n",
    "        return False\n",
    "    \n",
    "        for i in range(3, int(n ** 0.5) + 1, 2):\n",
    "            if n % i == 0:\n",
    "                return False\n",
    "        return True\n",
    "\n",
    "\n",
    "test_values = [0, 1, 2, 3, 4, 5, 11, 16, 17, 19, 20, 23, 25, 29, 97, 100]\n",
    "\n",
    "for val in test_values:\n",
    "    print(f\"{val} -> {is_prime(val)}\")\n",
    "\n"
   ]
  },
  {
   "cell_type": "code",
   "execution_count": 7,
   "id": "1e0e59c9-d842-4ebd-b4a9-c44d02989ffb",
   "metadata": {},
   "outputs": [
    {
     "name": "stdout",
     "output_type": "stream",
     "text": [
      "madam → Palindrome\n"
     ]
    }
   ],
   "source": [
    "#Q4\n",
    "def is_palindrome(word):\n",
    "    word = word.lower()\n",
    "    return word == word[::-1]\n",
    "\n",
    "\n",
    "test_words = [\"madam\"]\n",
    "\n",
    "for w in test_words:\n",
    "    if is_palindrome(w):\n",
    "        print(f\"{w} → Palindrome\")\n",
    "    else:\n",
    "        print(f\"{w} → Not Palindrome\")\n"
   ]
  },
  {
   "cell_type": "code",
   "execution_count": 9,
   "id": "b4638852-298e-4198-a617-2e9d485f1f84",
   "metadata": {},
   "outputs": [
    {
     "name": "stdout",
     "output_type": "stream",
     "text": [
      "B is singular (determinant ≈ 0). Inverse does NOT exist.\n",
      "Matrix A:\n",
      "[[2. 1. 3.]\n",
      " [1. 0. 2.]\n",
      " [3. 4. 5.]]\n",
      "\n",
      "Matrix B:\n",
      "[[9. 8. 7.]\n",
      " [6. 5. 4.]\n",
      " [3. 2. 1.]]\n",
      "\n",
      "--- a) A × B (Matrix Multiplication) ---\n",
      "[[33. 27. 21.]\n",
      " [15. 12.  9.]\n",
      " [66. 54. 42.]]\n",
      "\n",
      "--- b) Determinants ---\n",
      "det(A) = -2.9999999999999996\n",
      "det(B) = 6.66133814775094e-16\n",
      "\n",
      "--- c) Inverse(s) ---\n",
      "\n",
      "Inverse of A (A⁻¹):\n",
      "[[ 2.66666667 -2.33333333 -0.66666667]\n",
      " [-0.33333333 -0.33333333  0.33333333]\n",
      " [-1.33333333  1.66666667  0.33333333]]\n",
      "\n",
      "B has no inverse.\n",
      "\n",
      "Verification for A:\n",
      "M × M⁻¹ (approx):\n",
      "[[ 1. -0. -0.]\n",
      " [ 0.  1. -0.]\n",
      " [ 0.  0.  1.]]\n",
      "Is close to identity matrix?: True\n",
      "Cannot verify inverse for B since inverse does not exist.\n"
     ]
    }
   ],
   "source": [
    "#Q5\n",
    "import numpy as np\n",
    "\n",
    "A = np.array([\n",
    "    [2,  1,  3],\n",
    "    [1,  0,  2],\n",
    "    [3,  4,  5]\n",
    "], dtype=float)\n",
    "\n",
    "B = np.array([\n",
    "    [9,  8,  7],\n",
    "    [6,  5,  4],\n",
    "    [3,  2,  1]\n",
    "], dtype=float)\n",
    "\n",
    "# a) Matrix multiplication (A x B) \n",
    "product = A.dot(B)   # or np.matmul(A, B)\n",
    "\n",
    "# b) Determinant of each matrix \n",
    "det_A = np.linalg.det(A)\n",
    "det_B = np.linalg.det(B)\n",
    "\n",
    "# c) Inverse \n",
    "def compute_inverse_if_possible(M, name=\"Matrix\"):\n",
    "    det = np.linalg.det(M)\n",
    "    if abs(det) < 1e-12:   \n",
    "        print(f\"{name} is singular (determinant ≈ 0). Inverse does NOT exist.\")\n",
    "        return None\n",
    "    inv = np.linalg.inv(M)\n",
    "    return inv\n",
    "\n",
    "inv_A = compute_inverse_if_possible(A, \"A\")\n",
    "inv_B = compute_inverse_if_possible(B, \"B\")\n",
    "\n",
    "def verify_inverse(M, M_inv, name=\"Matrix\"):\n",
    "    if M_inv is None:\n",
    "        print(f\"Cannot verify inverse for {name} since inverse does not exist.\")\n",
    "        return\n",
    "    I_approx = M.dot(M_inv)\n",
    "    I_exact = np.eye(M.shape[0])\n",
    "    is_identity = np.allclose(I_approx, I_exact, atol=1e-9)\n",
    "    print(f\"\\nVerification for {name}:\")\n",
    "    print(\"M × M⁻¹ (approx):\")\n",
    "    print(np.round(I_approx, 10))  \n",
    "    print(\"Is close to identity matrix?:\", is_identity)\n",
    "\n",
    "print(\"Matrix A:\")\n",
    "print(A)\n",
    "print(\"\\nMatrix B:\")\n",
    "print(B)\n",
    "\n",
    "print(\"\\n--- a) A × B (Matrix Multiplication) ---\")\n",
    "print(product)\n",
    "\n",
    "print(\"\\n--- b) Determinants ---\")\n",
    "print(f\"det(A) = {det_A}\")\n",
    "print(f\"det(B) = {det_B}\")\n",
    "\n",
    "print(\"\\n--- c) Inverse(s) ---\")\n",
    "if inv_A is not None:\n",
    "    print(\"\\nInverse of A (A⁻¹):\")\n",
    "    print(inv_A)\n",
    "else:\n",
    "    print(\"\\nA has no inverse.\")\n",
    "\n",
    "if inv_B is not None:\n",
    "    print(\"\\nInverse of B (B⁻¹):\")\n",
    "    print(inv_B)\n",
    "else:\n",
    "    print(\"\\nB has no inverse.\")\n",
    "\n",
    "verify_inverse(A, inv_A, \"A\")\n",
    "verify_inverse(B, inv_B, \"B\")\n"
   ]
  },
  {
   "cell_type": "code",
   "execution_count": 10,
   "id": "ab0bd7ff-a5dd-4a89-ae49-97a8ca6f12d3",
   "metadata": {},
   "outputs": [
    {
     "name": "stdout",
     "output_type": "stream",
     "text": [
      "Array 1: [22 10 47 26 18 50 29 13 50  5]\n",
      "Array 2: [35 45 26 25  4 11 28 28 46 10]\n",
      "\n",
      "Element-wise comparison:\n",
      "arr1 > arr2: [False False  True  True  True  True  True False  True False]\n",
      "arr1 < arr2: [ True  True False False False False False  True False  True]\n",
      "arr1 == arr2: [False False False False False False False False False False]\n",
      "\n",
      "Number of times arr1 > arr2: 6\n"
     ]
    }
   ],
   "source": [
    "#Q6\n",
    "import numpy as np\n",
    "\n",
    "arr1 = np.random.randint(1, 51, size=10)\n",
    "arr2 = np.random.randint(1, 51, size=10)\n",
    "\n",
    "print(\"Array 1:\", arr1)\n",
    "print(\"Array 2:\", arr2)\n",
    "\n",
    "greater = arr1 > arr2\n",
    "less = arr1 < arr2\n",
    "equal = arr1 == arr2\n",
    "\n",
    "print(\"\\nElement-wise comparison:\")\n",
    "print(\"arr1 > arr2:\", greater)\n",
    "print(\"arr1 < arr2:\", less)\n",
    "print(\"arr1 == arr2:\", equal)\n",
    "\n",
    "count_greater = np.sum(greater)\n",
    "print(\"\\nNumber of times arr1 > arr2:\", count_greater)\n"
   ]
  },
  {
   "cell_type": "code",
   "execution_count": 12,
   "id": "fbeeb694-9dbd-45ff-9d77-bbd4c8f68cf9",
   "metadata": {},
   "outputs": [
    {
     "name": "stdout",
     "output_type": "stream",
     "text": [
      "Marks of students: [45 78 88 56 92 67 81 73 59 90]\n",
      "\n",
      "Average marks of the class: 72.9\n",
      "\n",
      "Students who scored above average: [78 88 92 81 73 90]\n"
     ]
    }
   ],
   "source": [
    "#Q7\n",
    "import numpy as np\n",
    "\n",
    "marks_list = [45, 78, 88, 56, 92, 67, 81, 73, 59, 90]\n",
    "marks = np.array(marks_list)\n",
    "print(\"Marks of students:\", marks)\n",
    "\n",
    "# a) Average marks of the class\n",
    "average = np.mean(marks)\n",
    "print(\"\\nAverage marks of the class:\", average)\n",
    "\n",
    "# b) Students who scored above average\n",
    "above_avg = marks[marks > average]\n",
    "print(\"\\nStudents who scored above average:\", above_avg)\n"
   ]
  },
  {
   "cell_type": "code",
   "execution_count": 13,
   "id": "1cec9c36-d7c3-4ce8-bdc3-e4ecfc12752a",
   "metadata": {},
   "outputs": [
    {
     "name": "stdout",
     "output_type": "stream",
     "text": [
      "4×4 Array:\n",
      " [[ 1  2  3  4]\n",
      " [ 5  6  7  8]\n",
      " [ 9 10 11 12]\n",
      " [13 14 15 16]]\n",
      "\n",
      "Second row: [5 6 7 8]\n",
      "\n",
      "Third column: [ 3  7 11 15]\n",
      "\n",
      "2×2 Sub-matrix from bottom-right corner:\n",
      " [[11 12]\n",
      " [15 16]]\n"
     ]
    }
   ],
   "source": [
    "# Q8\n",
    "import numpy as np\n",
    "\n",
    "arr = np.arange(1, 17).reshape(4, 4)\n",
    "print(\"4×4 Array:\\n\", arr)\n",
    "\n",
    "# a) Extract the second row\n",
    "second_row = arr[1, :]  \n",
    "print(\"\\nSecond row:\", second_row)\n",
    "\n",
    "# b) Extract the third column\n",
    "third_col = arr[:, 2]   \n",
    "print(\"\\nThird column:\", third_col)\n",
    "\n",
    "# c) Slice the sub-matrix (2×2) from the bottom-right corner\n",
    "sub_matrix = arr[2:4, 2:4]  \n",
    "print(\"\\n2×2 Sub-matrix from bottom-right corner:\\n\", sub_matrix)\n"
   ]
  },
  {
   "cell_type": "code",
   "execution_count": 14,
   "id": "87303aa8-80b4-4e28-98f9-273fd80cbafd",
   "metadata": {},
   "outputs": [
    {
     "name": "stdout",
     "output_type": "stream",
     "text": [
      "Original 3×4 Array:\n",
      " [[ 1  2  3  4]\n",
      " [ 5  6  7  8]\n",
      " [ 9 10 11 12]]\n",
      "\n",
      "Reshaped Array (4×3):\n",
      " [[ 1  2  3]\n",
      " [ 4  5  6]\n",
      " [ 7  8  9]\n",
      " [10 11 12]]\n",
      "\n",
      "Ravelled Array (1D):\n",
      " [ 1  2  3  4  5  6  7  8  9 10 11 12]\n",
      "\n",
      "After modifying reshaped[0,0] = 100\n",
      "Original Array:\n",
      " [[100   2   3   4]\n",
      " [  5   6   7   8]\n",
      " [  9  10  11  12]]\n",
      "Reshaped Array:\n",
      " [[100   2   3]\n",
      " [  4   5   6]\n",
      " [  7   8   9]\n",
      " [ 10  11  12]]\n",
      "\n",
      "After modifying ravelled[0] = 999\n",
      "Original Array:\n",
      " [[999   2   3   4]\n",
      " [  5   6   7   8]\n",
      " [  9  10  11  12]]\n",
      "Ravelled Array:\n",
      " [999   2   3   4   5   6   7   8   9  10  11  12]\n"
     ]
    }
   ],
   "source": [
    "#Q9\n",
    "import numpy as np\n",
    "arr = np.arange(1, 13).reshape(3, 4)\n",
    "\n",
    "print(\"Original 3×4 Array:\\n\", arr)\n",
    "\n",
    "reshaped = arr.reshape(4, 3)\n",
    "print(\"\\nReshaped Array (4×3):\\n\", reshaped)\n",
    "\n",
    "ravelled = arr.ravel()\n",
    "print(\"\\nRavelled Array (1D):\\n\", ravelled)\n",
    "\n",
    "reshaped[0, 0] = 100\n",
    "print(\"\\nAfter modifying reshaped[0,0] = 100\")\n",
    "print(\"Original Array:\\n\", arr)      \n",
    "print(\"Reshaped Array:\\n\", reshaped)\n",
    "\n",
    "ravelled[0] = 999\n",
    "print(\"\\nAfter modifying ravelled[0] = 999\")\n",
    "print(\"Original Array:\\n\", arr)     \n",
    "print(\"Ravelled Array:\\n\", ravelled)\n"
   ]
  },
  {
   "cell_type": "code",
   "execution_count": 15,
   "id": "da91f3ca-9920-403f-9ecc-bc7693f6865d",
   "metadata": {},
   "outputs": [
    {
     "name": "stdout",
     "output_type": "stream",
     "text": [
      "Dice Roll Frequencies (Face: Count):\n",
      "{1: 163, 2: 160, 3: 197, 4: 159, 5: 153, 6: 168}\n"
     ]
    }
   ],
   "source": [
    "# Q10\n",
    "import numpy as np\n",
    "\n",
    "rolls = np.random.randint(1, 7, size=1000)  \n",
    "unique, counts = np.unique(rolls, return_counts=True)  \n",
    "frequency = dict(zip(unique, counts))\n",
    "\n",
    "print(\"Dice Roll Frequencies (Face: Count):\")\n",
    "print(frequency)\n"
   ]
  },
  {
   "cell_type": "code",
   "execution_count": null,
   "id": "61cb0ae5-182c-45f3-a289-760c43133cbd",
   "metadata": {},
   "outputs": [],
   "source": []
  }
 ],
 "metadata": {
  "kernelspec": {
   "display_name": "Python [conda env:base] *",
   "language": "python",
   "name": "conda-base-py"
  },
  "language_info": {
   "codemirror_mode": {
    "name": "ipython",
    "version": 3
   },
   "file_extension": ".py",
   "mimetype": "text/x-python",
   "name": "python",
   "nbconvert_exporter": "python",
   "pygments_lexer": "ipython3",
   "version": "3.12.7"
  }
 },
 "nbformat": 4,
 "nbformat_minor": 5
}
